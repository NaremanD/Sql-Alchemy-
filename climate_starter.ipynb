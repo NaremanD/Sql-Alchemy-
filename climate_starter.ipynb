{
 "cells": [
  {
   "cell_type": "code",
   "execution_count": 1,
   "metadata": {},
   "outputs": [
    {
     "data": {
      "application/javascript": [
       "\n",
       "            setTimeout(function() {\n",
       "                var nbb_cell_id = 1;\n",
       "                var nbb_unformatted_code = \"%reload_ext nb_black\\n%matplotlib inline\\nfrom matplotlib import style\\n\\nstyle.use(\\\"fivethirtyeight\\\")\\nimport matplotlib.pyplot as plt\";\n",
       "                var nbb_formatted_code = \"%reload_ext nb_black\\n%matplotlib inline\\nfrom matplotlib import style\\n\\nstyle.use(\\\"fivethirtyeight\\\")\\nimport matplotlib.pyplot as plt\";\n",
       "                var nbb_cells = Jupyter.notebook.get_cells();\n",
       "                for (var i = 0; i < nbb_cells.length; ++i) {\n",
       "                    if (nbb_cells[i].input_prompt_number == nbb_cell_id) {\n",
       "                        if (nbb_cells[i].get_text() == nbb_unformatted_code) {\n",
       "                             nbb_cells[i].set_text(nbb_formatted_code);\n",
       "                        }\n",
       "                        break;\n",
       "                    }\n",
       "                }\n",
       "            }, 500);\n",
       "            "
      ],
      "text/plain": [
       "<IPython.core.display.Javascript object>"
      ]
     },
     "metadata": {},
     "output_type": "display_data"
    }
   ],
   "source": [
    "%reload_ext nb_black\n",
    "%matplotlib inline\n",
    "from matplotlib import style\n",
    "\n",
    "style.use(\"fivethirtyeight\")\n",
    "import matplotlib.pyplot as plt"
   ]
  },
  {
   "cell_type": "code",
   "execution_count": 2,
   "metadata": {},
   "outputs": [
    {
     "data": {
      "application/javascript": [
       "\n",
       "            setTimeout(function() {\n",
       "                var nbb_cell_id = 2;\n",
       "                var nbb_unformatted_code = \"import numpy as np\\nimport pandas as pd\";\n",
       "                var nbb_formatted_code = \"import numpy as np\\nimport pandas as pd\";\n",
       "                var nbb_cells = Jupyter.notebook.get_cells();\n",
       "                for (var i = 0; i < nbb_cells.length; ++i) {\n",
       "                    if (nbb_cells[i].input_prompt_number == nbb_cell_id) {\n",
       "                        if (nbb_cells[i].get_text() == nbb_unformatted_code) {\n",
       "                             nbb_cells[i].set_text(nbb_formatted_code);\n",
       "                        }\n",
       "                        break;\n",
       "                    }\n",
       "                }\n",
       "            }, 500);\n",
       "            "
      ],
      "text/plain": [
       "<IPython.core.display.Javascript object>"
      ]
     },
     "metadata": {},
     "output_type": "display_data"
    }
   ],
   "source": [
    "import numpy as np\n",
    "import pandas as pd"
   ]
  },
  {
   "cell_type": "code",
   "execution_count": 3,
   "metadata": {},
   "outputs": [
    {
     "data": {
      "application/javascript": [
       "\n",
       "            setTimeout(function() {\n",
       "                var nbb_cell_id = 3;\n",
       "                var nbb_unformatted_code = \"import datetime as dt\\nfrom pprint import pprint\";\n",
       "                var nbb_formatted_code = \"import datetime as dt\\nfrom pprint import pprint\";\n",
       "                var nbb_cells = Jupyter.notebook.get_cells();\n",
       "                for (var i = 0; i < nbb_cells.length; ++i) {\n",
       "                    if (nbb_cells[i].input_prompt_number == nbb_cell_id) {\n",
       "                        if (nbb_cells[i].get_text() == nbb_unformatted_code) {\n",
       "                             nbb_cells[i].set_text(nbb_formatted_code);\n",
       "                        }\n",
       "                        break;\n",
       "                    }\n",
       "                }\n",
       "            }, 500);\n",
       "            "
      ],
      "text/plain": [
       "<IPython.core.display.Javascript object>"
      ]
     },
     "metadata": {},
     "output_type": "display_data"
    }
   ],
   "source": [
    "import datetime as dt\n",
    "from pprint import pprint"
   ]
  },
  {
   "cell_type": "markdown",
   "metadata": {},
   "source": [
    "# Reflect Tables into SQLAlchemy ORM"
   ]
  },
  {
   "cell_type": "code",
   "execution_count": 4,
   "metadata": {},
   "outputs": [
    {
     "data": {
      "application/javascript": [
       "\n",
       "            setTimeout(function() {\n",
       "                var nbb_cell_id = 4;\n",
       "                var nbb_unformatted_code = \"# Python SQL toolkit and Object Relational Mapper\\nimport sqlalchemy\\nfrom sqlalchemy.ext.automap import automap_base\\nfrom sqlalchemy.orm import Session\\nfrom sqlalchemy import create_engine, func, inspect\";\n",
       "                var nbb_formatted_code = \"# Python SQL toolkit and Object Relational Mapper\\nimport sqlalchemy\\nfrom sqlalchemy.ext.automap import automap_base\\nfrom sqlalchemy.orm import Session\\nfrom sqlalchemy import create_engine, func, inspect\";\n",
       "                var nbb_cells = Jupyter.notebook.get_cells();\n",
       "                for (var i = 0; i < nbb_cells.length; ++i) {\n",
       "                    if (nbb_cells[i].input_prompt_number == nbb_cell_id) {\n",
       "                        if (nbb_cells[i].get_text() == nbb_unformatted_code) {\n",
       "                             nbb_cells[i].set_text(nbb_formatted_code);\n",
       "                        }\n",
       "                        break;\n",
       "                    }\n",
       "                }\n",
       "            }, 500);\n",
       "            "
      ],
      "text/plain": [
       "<IPython.core.display.Javascript object>"
      ]
     },
     "metadata": {},
     "output_type": "display_data"
    }
   ],
   "source": [
    "# Python SQL toolkit and Object Relational Mapper\n",
    "import sqlalchemy\n",
    "from sqlalchemy.ext.automap import automap_base\n",
    "from sqlalchemy.orm import Session\n",
    "from sqlalchemy import create_engine, func, inspect"
   ]
  },
  {
   "cell_type": "code",
   "execution_count": 5,
   "metadata": {},
   "outputs": [
    {
     "data": {
      "application/javascript": [
       "\n",
       "            setTimeout(function() {\n",
       "                var nbb_cell_id = 5;\n",
       "                var nbb_unformatted_code = \"# database setup\\nengine = create_engine(\\\"sqlite:///Resources/hawaii.sqlite\\\")\";\n",
       "                var nbb_formatted_code = \"# database setup\\nengine = create_engine(\\\"sqlite:///Resources/hawaii.sqlite\\\")\";\n",
       "                var nbb_cells = Jupyter.notebook.get_cells();\n",
       "                for (var i = 0; i < nbb_cells.length; ++i) {\n",
       "                    if (nbb_cells[i].input_prompt_number == nbb_cell_id) {\n",
       "                        if (nbb_cells[i].get_text() == nbb_unformatted_code) {\n",
       "                             nbb_cells[i].set_text(nbb_formatted_code);\n",
       "                        }\n",
       "                        break;\n",
       "                    }\n",
       "                }\n",
       "            }, 500);\n",
       "            "
      ],
      "text/plain": [
       "<IPython.core.display.Javascript object>"
      ]
     },
     "metadata": {},
     "output_type": "display_data"
    }
   ],
   "source": [
    "# database setup\n",
    "engine = create_engine(\"sqlite:///Resources/hawaii.sqlite\")"
   ]
  },
  {
   "cell_type": "code",
   "execution_count": 6,
   "metadata": {},
   "outputs": [
    {
     "data": {
      "application/javascript": [
       "\n",
       "            setTimeout(function() {\n",
       "                var nbb_cell_id = 6;\n",
       "                var nbb_unformatted_code = \"# reflect the  database into ORM class\\n# create automap\\nBase = automap_base()\\n# reflect the tables\\nBase.prepare(engine, reflect=True)\";\n",
       "                var nbb_formatted_code = \"# reflect the  database into ORM class\\n# create automap\\nBase = automap_base()\\n# reflect the tables\\nBase.prepare(engine, reflect=True)\";\n",
       "                var nbb_cells = Jupyter.notebook.get_cells();\n",
       "                for (var i = 0; i < nbb_cells.length; ++i) {\n",
       "                    if (nbb_cells[i].input_prompt_number == nbb_cell_id) {\n",
       "                        if (nbb_cells[i].get_text() == nbb_unformatted_code) {\n",
       "                             nbb_cells[i].set_text(nbb_formatted_code);\n",
       "                        }\n",
       "                        break;\n",
       "                    }\n",
       "                }\n",
       "            }, 500);\n",
       "            "
      ],
      "text/plain": [
       "<IPython.core.display.Javascript object>"
      ]
     },
     "metadata": {},
     "output_type": "display_data"
    }
   ],
   "source": [
    "# reflect the  database into ORM class\n",
    "# create automap\n",
    "Base = automap_base()\n",
    "# reflect the tables\n",
    "Base.prepare(engine, reflect=True)"
   ]
  },
  {
   "cell_type": "code",
   "execution_count": 7,
   "metadata": {},
   "outputs": [
    {
     "data": {
      "text/plain": [
       "['measurement', 'station']"
      ]
     },
     "execution_count": 7,
     "metadata": {},
     "output_type": "execute_result"
    },
    {
     "data": {
      "application/javascript": [
       "\n",
       "            setTimeout(function() {\n",
       "                var nbb_cell_id = 7;\n",
       "                var nbb_unformatted_code = \"# We can view all of the classes that automap found\\nBase.classes.keys()\";\n",
       "                var nbb_formatted_code = \"# We can view all of the classes that automap found\\nBase.classes.keys()\";\n",
       "                var nbb_cells = Jupyter.notebook.get_cells();\n",
       "                for (var i = 0; i < nbb_cells.length; ++i) {\n",
       "                    if (nbb_cells[i].input_prompt_number == nbb_cell_id) {\n",
       "                        if (nbb_cells[i].get_text() == nbb_unformatted_code) {\n",
       "                             nbb_cells[i].set_text(nbb_formatted_code);\n",
       "                        }\n",
       "                        break;\n",
       "                    }\n",
       "                }\n",
       "            }, 500);\n",
       "            "
      ],
      "text/plain": [
       "<IPython.core.display.Javascript object>"
      ]
     },
     "metadata": {},
     "output_type": "display_data"
    }
   ],
   "source": [
    "# We can view all of the classes that automap found\n",
    "Base.classes.keys()"
   ]
  },
  {
   "cell_type": "code",
   "execution_count": 8,
   "metadata": {},
   "outputs": [
    {
     "data": {
      "application/javascript": [
       "\n",
       "            setTimeout(function() {\n",
       "                var nbb_cell_id = 8;\n",
       "                var nbb_unformatted_code = \"# Save references to each table\\nMeasurement = Base.classes.measurement\\nStation = Base.classes.station\";\n",
       "                var nbb_formatted_code = \"# Save references to each table\\nMeasurement = Base.classes.measurement\\nStation = Base.classes.station\";\n",
       "                var nbb_cells = Jupyter.notebook.get_cells();\n",
       "                for (var i = 0; i < nbb_cells.length; ++i) {\n",
       "                    if (nbb_cells[i].input_prompt_number == nbb_cell_id) {\n",
       "                        if (nbb_cells[i].get_text() == nbb_unformatted_code) {\n",
       "                             nbb_cells[i].set_text(nbb_formatted_code);\n",
       "                        }\n",
       "                        break;\n",
       "                    }\n",
       "                }\n",
       "            }, 500);\n",
       "            "
      ],
      "text/plain": [
       "<IPython.core.display.Javascript object>"
      ]
     },
     "metadata": {},
     "output_type": "display_data"
    }
   ],
   "source": [
    "# Save references to each table\n",
    "Measurement = Base.classes.measurement\n",
    "Station = Base.classes.station"
   ]
  },
  {
   "cell_type": "code",
   "execution_count": 9,
   "metadata": {},
   "outputs": [
    {
     "data": {
      "application/javascript": [
       "\n",
       "            setTimeout(function() {\n",
       "                var nbb_cell_id = 9;\n",
       "                var nbb_unformatted_code = \"# Create our session (link) from Python to the DB/start a session to query the databse\\nsession = Session(engine)\";\n",
       "                var nbb_formatted_code = \"# Create our session (link) from Python to the DB/start a session to query the databse\\nsession = Session(engine)\";\n",
       "                var nbb_cells = Jupyter.notebook.get_cells();\n",
       "                for (var i = 0; i < nbb_cells.length; ++i) {\n",
       "                    if (nbb_cells[i].input_prompt_number == nbb_cell_id) {\n",
       "                        if (nbb_cells[i].get_text() == nbb_unformatted_code) {\n",
       "                             nbb_cells[i].set_text(nbb_formatted_code);\n",
       "                        }\n",
       "                        break;\n",
       "                    }\n",
       "                }\n",
       "            }, 500);\n",
       "            "
      ],
      "text/plain": [
       "<IPython.core.display.Javascript object>"
      ]
     },
     "metadata": {},
     "output_type": "display_data"
    }
   ],
   "source": [
    "# Create our session (link) from Python to the DB/start a session to query the databse\n",
    "session = Session(engine)"
   ]
  },
  {
   "cell_type": "code",
   "execution_count": 10,
   "metadata": {},
   "outputs": [
    {
     "data": {
      "text/plain": [
       "['measurement', 'station']"
      ]
     },
     "execution_count": 10,
     "metadata": {},
     "output_type": "execute_result"
    },
    {
     "data": {
      "application/javascript": [
       "\n",
       "            setTimeout(function() {\n",
       "                var nbb_cell_id = 10;\n",
       "                var nbb_unformatted_code = \"# Use the inspector to Explore the database and print the table names\\ninspector = inspect(engine)\\ninspector.get_table_names()\";\n",
       "                var nbb_formatted_code = \"# Use the inspector to Explore the database and print the table names\\ninspector = inspect(engine)\\ninspector.get_table_names()\";\n",
       "                var nbb_cells = Jupyter.notebook.get_cells();\n",
       "                for (var i = 0; i < nbb_cells.length; ++i) {\n",
       "                    if (nbb_cells[i].input_prompt_number == nbb_cell_id) {\n",
       "                        if (nbb_cells[i].get_text() == nbb_unformatted_code) {\n",
       "                             nbb_cells[i].set_text(nbb_formatted_code);\n",
       "                        }\n",
       "                        break;\n",
       "                    }\n",
       "                }\n",
       "            }, 500);\n",
       "            "
      ],
      "text/plain": [
       "<IPython.core.display.Javascript object>"
      ]
     },
     "metadata": {},
     "output_type": "display_data"
    }
   ],
   "source": [
    "# Use the inspector to Explore the database and print the table names\n",
    "inspector = inspect(engine)\n",
    "inspector.get_table_names()"
   ]
  },
  {
   "cell_type": "code",
   "execution_count": 11,
   "metadata": {},
   "outputs": [
    {
     "name": "stdout",
     "output_type": "stream",
     "text": [
      "id INTEGER\n",
      "station TEXT\n",
      "date TEXT\n",
      "prcp FLOAT\n",
      "tobs FLOAT\n"
     ]
    },
    {
     "data": {
      "application/javascript": [
       "\n",
       "            setTimeout(function() {\n",
       "                var nbb_cell_id = 11;\n",
       "                var nbb_unformatted_code = \"#inspecting the Column objects for measurment class \\ninspector = inspect(engine)\\nm_col=inspector.get_columns(\\\"measurement\\\")\\nfor c in m_col:\\n    print(c[\\\"name\\\"], c[\\\"type\\\"])\";\n",
       "                var nbb_formatted_code = \"# inspecting the Column objects for measurment class\\ninspector = inspect(engine)\\nm_col = inspector.get_columns(\\\"measurement\\\")\\nfor c in m_col:\\n    print(c[\\\"name\\\"], c[\\\"type\\\"])\";\n",
       "                var nbb_cells = Jupyter.notebook.get_cells();\n",
       "                for (var i = 0; i < nbb_cells.length; ++i) {\n",
       "                    if (nbb_cells[i].input_prompt_number == nbb_cell_id) {\n",
       "                        if (nbb_cells[i].get_text() == nbb_unformatted_code) {\n",
       "                             nbb_cells[i].set_text(nbb_formatted_code);\n",
       "                        }\n",
       "                        break;\n",
       "                    }\n",
       "                }\n",
       "            }, 500);\n",
       "            "
      ],
      "text/plain": [
       "<IPython.core.display.Javascript object>"
      ]
     },
     "metadata": {},
     "output_type": "display_data"
    }
   ],
   "source": [
    "#inspecting the Column objects for measurment class \n",
    "inspector = inspect(engine)\n",
    "m_col=inspector.get_columns(\"measurement\")\n",
    "for c in m_col:\n",
    "    print(c[\"name\"], c[\"type\"])\n",
    "\n"
   ]
  },
  {
   "cell_type": "code",
   "execution_count": 12,
   "metadata": {},
   "outputs": [
    {
     "name": "stdout",
     "output_type": "stream",
     "text": [
      "id INTEGER\n",
      "station TEXT\n",
      "name TEXT\n",
      "latitude FLOAT\n",
      "longitude FLOAT\n",
      "elevation FLOAT\n"
     ]
    },
    {
     "data": {
      "application/javascript": [
       "\n",
       "            setTimeout(function() {\n",
       "                var nbb_cell_id = 12;\n",
       "                var nbb_unformatted_code = \"#inspecting the Column objects for station class \\ninspector = inspect(engine)\\nm_col=inspector.get_columns(\\\"station\\\")\\nfor c in m_col:\\n    print(c[\\\"name\\\"], c[\\\"type\\\"])\";\n",
       "                var nbb_formatted_code = \"# inspecting the Column objects for station class\\ninspector = inspect(engine)\\nm_col = inspector.get_columns(\\\"station\\\")\\nfor c in m_col:\\n    print(c[\\\"name\\\"], c[\\\"type\\\"])\";\n",
       "                var nbb_cells = Jupyter.notebook.get_cells();\n",
       "                for (var i = 0; i < nbb_cells.length; ++i) {\n",
       "                    if (nbb_cells[i].input_prompt_number == nbb_cell_id) {\n",
       "                        if (nbb_cells[i].get_text() == nbb_unformatted_code) {\n",
       "                             nbb_cells[i].set_text(nbb_formatted_code);\n",
       "                        }\n",
       "                        break;\n",
       "                    }\n",
       "                }\n",
       "            }, 500);\n",
       "            "
      ],
      "text/plain": [
       "<IPython.core.display.Javascript object>"
      ]
     },
     "metadata": {},
     "output_type": "display_data"
    }
   ],
   "source": [
    "#inspecting the Column objects for station class \n",
    "inspector = inspect(engine)\n",
    "m_col=inspector.get_columns(\"station\")\n",
    "for c in m_col:\n",
    "    print(c[\"name\"], c[\"type\"])\n",
    "\n"
   ]
  },
  {
   "cell_type": "code",
   "execution_count": 13,
   "metadata": {},
   "outputs": [
    {
     "data": {
      "text/plain": [
       "[(1, 'USC00519397', '2010-01-01', 0.08, 65.0),\n",
       " (2, 'USC00519397', '2010-01-02', 0.0, 63.0),\n",
       " (3, 'USC00519397', '2010-01-03', 0.0, 74.0),\n",
       " (4, 'USC00519397', '2010-01-04', 0.0, 76.0),\n",
       " (5, 'USC00519397', '2010-01-06', None, 73.0)]"
      ]
     },
     "execution_count": 13,
     "metadata": {},
     "output_type": "execute_result"
    },
    {
     "data": {
      "application/javascript": [
       "\n",
       "            setTimeout(function() {\n",
       "                var nbb_cell_id = 13;\n",
       "                var nbb_unformatted_code = \"# select and display the first 5 rows from the measurement table\\nengine.execute(\\\"select * from measurement limit 5\\\").fetchall()\";\n",
       "                var nbb_formatted_code = \"# select and display the first 5 rows from the measurement table\\nengine.execute(\\\"select * from measurement limit 5\\\").fetchall()\";\n",
       "                var nbb_cells = Jupyter.notebook.get_cells();\n",
       "                for (var i = 0; i < nbb_cells.length; ++i) {\n",
       "                    if (nbb_cells[i].input_prompt_number == nbb_cell_id) {\n",
       "                        if (nbb_cells[i].get_text() == nbb_unformatted_code) {\n",
       "                             nbb_cells[i].set_text(nbb_formatted_code);\n",
       "                        }\n",
       "                        break;\n",
       "                    }\n",
       "                }\n",
       "            }, 500);\n",
       "            "
      ],
      "text/plain": [
       "<IPython.core.display.Javascript object>"
      ]
     },
     "metadata": {},
     "output_type": "display_data"
    }
   ],
   "source": [
    "# select and display the first 5 rows from the measurement table\n",
    "engine.execute(\"select * from measurement limit 5\").fetchall()"
   ]
  },
  {
   "cell_type": "code",
   "execution_count": 14,
   "metadata": {
    "scrolled": false
   },
   "outputs": [
    {
     "data": {
      "text/plain": [
       "[(1, 'USC00519397', 'WAIKIKI 717.2, HI US', 21.2716, -157.8168, 3.0),\n",
       " (2, 'USC00513117', 'KANEOHE 838.1, HI US', 21.4234, -157.8015, 14.6),\n",
       " (3, 'USC00514830', 'KUALOA RANCH HEADQUARTERS 886.9, HI US', 21.5213, -157.8374, 7.0),\n",
       " (4, 'USC00517948', 'PEARL CITY, HI US', 21.3934, -157.9751, 11.9),\n",
       " (5, 'USC00518838', 'UPPER WAHIAWA 874.3, HI US', 21.4992, -158.0111, 306.6)]"
      ]
     },
     "execution_count": 14,
     "metadata": {},
     "output_type": "execute_result"
    },
    {
     "data": {
      "application/javascript": [
       "\n",
       "            setTimeout(function() {\n",
       "                var nbb_cell_id = 14;\n",
       "                var nbb_unformatted_code = \"#  select and display the first 5 rows from the Station table\\nengine.execute(\\\"select * from station limit 5\\\").fetchall()\";\n",
       "                var nbb_formatted_code = \"#  select and display the first 5 rows from the Station table\\nengine.execute(\\\"select * from station limit 5\\\").fetchall()\";\n",
       "                var nbb_cells = Jupyter.notebook.get_cells();\n",
       "                for (var i = 0; i < nbb_cells.length; ++i) {\n",
       "                    if (nbb_cells[i].input_prompt_number == nbb_cell_id) {\n",
       "                        if (nbb_cells[i].get_text() == nbb_unformatted_code) {\n",
       "                             nbb_cells[i].set_text(nbb_formatted_code);\n",
       "                        }\n",
       "                        break;\n",
       "                    }\n",
       "                }\n",
       "            }, 500);\n",
       "            "
      ],
      "text/plain": [
       "<IPython.core.display.Javascript object>"
      ]
     },
     "metadata": {},
     "output_type": "display_data"
    }
   ],
   "source": [
    "#  select and display the first 5 rows from the Station table\n",
    "engine.execute(\"select * from station limit 5\").fetchall()"
   ]
  },
  {
   "cell_type": "markdown",
   "metadata": {},
   "source": [
    "# Exploratory Climate Analysis\n",
    "\n",
    "* Design a query to retrieve the last 12 months of precipitation data and plot the results\n",
    "\n",
    "* Calculate the date 1 year ago from the last data point in the database\n",
    "\n",
    "* Perform a query to retrieve the data and precipitation scores\n",
    "\n",
    "* Save the query results as a Pandas DataFrame and set the index to the date column\n",
    "\n",
    "* Sort the dataframe by date\n",
    "\n",
    "* Use Pandas Plotting with Matplotlib to plot the data"
   ]
  },
  {
   "cell_type": "code",
   "execution_count": 15,
   "metadata": {},
   "outputs": [
    {
     "name": "stdout",
     "output_type": "stream",
     "text": [
      "('2017-08-23',)\n"
     ]
    },
    {
     "data": {
      "application/javascript": [
       "\n",
       "            setTimeout(function() {\n",
       "                var nbb_cell_id = 15;\n",
       "                var nbb_unformatted_code = \"# Calculate the recent date in measurements table\\nrecent_date = session.query(Measurement.date).order_by(Measurement.date.desc()).first()\\nprint(recent_date)\";\n",
       "                var nbb_formatted_code = \"# Calculate the recent date in measurements table\\nrecent_date = session.query(Measurement.date).order_by(Measurement.date.desc()).first()\\nprint(recent_date)\";\n",
       "                var nbb_cells = Jupyter.notebook.get_cells();\n",
       "                for (var i = 0; i < nbb_cells.length; ++i) {\n",
       "                    if (nbb_cells[i].input_prompt_number == nbb_cell_id) {\n",
       "                        if (nbb_cells[i].get_text() == nbb_unformatted_code) {\n",
       "                             nbb_cells[i].set_text(nbb_formatted_code);\n",
       "                        }\n",
       "                        break;\n",
       "                    }\n",
       "                }\n",
       "            }, 500);\n",
       "            "
      ],
      "text/plain": [
       "<IPython.core.display.Javascript object>"
      ]
     },
     "metadata": {},
     "output_type": "display_data"
    }
   ],
   "source": [
    "# Calculate the recent date in measurements table\n",
    "recent_date = session.query(Measurement.date).order_by(Measurement.date.desc()).first()\n",
    "print(recent_date)"
   ]
  },
  {
   "cell_type": "code",
   "execution_count": 16,
   "metadata": {},
   "outputs": [
    {
     "name": "stdout",
     "output_type": "stream",
     "text": [
      "2016-08-23\n"
     ]
    },
    {
     "data": {
      "application/javascript": [
       "\n",
       "            setTimeout(function() {\n",
       "                var nbb_cell_id = 16;\n",
       "                var nbb_unformatted_code = \"# Calculate the date 1 year ago from the last data point in the database\\ndate_year_ago = dt.date(2017, 8, 23) - dt.timedelta(days=365)\\nprint(date_year_ago)\";\n",
       "                var nbb_formatted_code = \"# Calculate the date 1 year ago from the last data point in the database\\ndate_year_ago = dt.date(2017, 8, 23) - dt.timedelta(days=365)\\nprint(date_year_ago)\";\n",
       "                var nbb_cells = Jupyter.notebook.get_cells();\n",
       "                for (var i = 0; i < nbb_cells.length; ++i) {\n",
       "                    if (nbb_cells[i].input_prompt_number == nbb_cell_id) {\n",
       "                        if (nbb_cells[i].get_text() == nbb_unformatted_code) {\n",
       "                             nbb_cells[i].set_text(nbb_formatted_code);\n",
       "                        }\n",
       "                        break;\n",
       "                    }\n",
       "                }\n",
       "            }, 500);\n",
       "            "
      ],
      "text/plain": [
       "<IPython.core.display.Javascript object>"
      ]
     },
     "metadata": {},
     "output_type": "display_data"
    }
   ],
   "source": [
    "# Calculate the date 1 year ago from the last data point in the database\n",
    "date_year_ago = dt.date(2017, 8, 23) - dt.timedelta(days=365)\n",
    "print(date_year_ago)"
   ]
  },
  {
   "cell_type": "code",
   "execution_count": 17,
   "metadata": {},
   "outputs": [
    {
     "name": "stdout",
     "output_type": "stream",
     "text": [
      "[('2016-08-23', 0.0), ('2016-08-23', 0.15), ('2016-08-23', 0.05), ('2016-08-23', None), ('2016-08-23', 0.02), ('2016-08-23', 1.79), ('2016-08-23', 0.7), ('2016-08-24', 0.08), ('2016-08-24', 2.15), ('2016-08-24', 2.28), ('2016-08-24', None), ('2016-08-24', 1.22), ('2016-08-24', 2.15), ('2016-08-24', 1.45), ('2016-08-25', 0.08), ('2016-08-25', 0.08), ('2016-08-25', 0.0), ('2016-08-25', 0.0), ('2016-08-25', 0.21), ('2016-08-25', 0.06), ('2016-08-25', 0.11), ('2016-08-26', 0.0), ('2016-08-26', 0.03), ('2016-08-26', 0.02), ('2016-08-26', 0.04), ('2016-08-26', 0.0), ('2016-08-26', 0.01), ('2016-08-27', 0.0), ('2016-08-27', 0.18), ('2016-08-27', 0.02), ('2016-08-27', 0.0), ('2016-08-27', 0.12), ('2016-08-27', None), ('2016-08-28', 0.01), ('2016-08-28', 0.14), ('2016-08-28', 0.14), ('2016-08-28', 0.14), ('2016-08-28', 0.6), ('2016-08-28', 2.07), ('2016-08-29', 0.0), ('2016-08-29', 0.17), ('2016-08-29', 0.04), ('2016-08-29', None), ('2016-08-29', 0.0), ('2016-08-29', 0.35), ('2016-08-29', 0.9), ('2016-08-30', 0.0), ('2016-08-30', 0.0), ('2016-08-30', 0.02), ('2016-08-30', 0.0), ('2016-08-30', 0.0), ('2016-08-30', 0.05), ('2016-08-31', 0.13), ('2016-08-31', 0.1), ('2016-08-31', None), ('2016-08-31', None), ('2016-08-31', 0.25), ('2016-08-31', 0.24), ('2016-08-31', 2.46), ('2016-09-01', 0.0), ('2016-09-01', 0.0), ('2016-09-01', 0.0), ('2016-09-01', None), ('2016-09-01', 0.02), ('2016-09-01', 0.01), ('2016-09-02', 0.0), ('2016-09-02', 0.02), ('2016-09-02', 0.19), ('2016-09-02', None), ('2016-09-02', None), ('2016-09-02', 0.01), ('2016-09-02', 0.03), ('2016-09-03', 0.0), ('2016-09-03', 0.07), ('2016-09-03', 0.08), ('2016-09-03', 0.12), ('2016-09-03', 1.0), ('2016-09-04', 0.03), ('2016-09-04', 0.03), ('2016-09-04', 0.74), ('2016-09-04', 0.14), ('2016-09-04', 0.44), ('2016-09-05', None), ('2016-09-05', 0.11), ('2016-09-05', None), ('2016-09-05', 0.02), ('2016-09-05', 0.03), ('2016-09-05', 0.18), ('2016-09-06', None), ('2016-09-06', 0.05), ('2016-09-06', 0.04), ('2016-09-06', 0.03), ('2016-09-06', 0.11), ('2016-09-06', 1.0), ('2016-09-07', 0.05), ('2016-09-07', 0.1), ('2016-09-07', 0.23), ('2016-09-07', 0.11), ('2016-09-07', 0.16), ('2016-09-07', 1.35), ('2016-09-08', 0.0), ('2016-09-08', 0.22), ('2016-09-08', 0.01), ('2016-09-08', None), ('2016-09-08', 0.01), ('2016-09-08', 0.07), ('2016-09-08', 0.15), ('2016-09-09', 0.03), ('2016-09-09', 0.01), ('2016-09-09', 0.29), ('2016-09-09', None), ('2016-09-09', 0.23), ('2016-09-09', 0.16), ('2016-09-09', 0.35), ('2016-09-10', 0.0), ('2016-09-10', 0.01), ('2016-09-10', 0.14), ('2016-09-10', 0.09), ('2016-09-10', 1.16), ('2016-09-11', 0.05), ('2016-09-11', 0.18), ('2016-09-11', 0.12), ('2016-09-11', 0.3), ('2016-09-11', 0.6), ('2016-09-12', 0.0), ('2016-09-12', 0.04), ('2016-09-12', None), ('2016-09-12', None), ('2016-09-12', 0.15), ('2016-09-12', 0.31), ('2016-09-12', 1.04), ('2016-09-13', 0.02), ('2016-09-13', 0.37), ('2016-09-13', 0.32), ('2016-09-13', None), ('2016-09-13', 0.46), ('2016-09-13', 0.34), ('2016-09-13', 1.2), ('2016-09-14', 1.32), ('2016-09-14', 0.9), ('2016-09-14', 1.84), ('2016-09-14', None), ('2016-09-14', 1.19), ('2016-09-14', 2.33), ('2016-09-14', 6.7), ('2016-09-15', 0.42), ('2016-09-15', 0.12), ('2016-09-15', 0.07), ('2016-09-15', None), ('2016-09-15', 0.17), ('2016-09-15', 0.83), ('2016-09-15', 3.35), ('2016-09-16', 0.06), ('2016-09-16', 0.01), ('2016-09-16', 0.07), ('2016-09-16', 0.0), ('2016-09-16', 0.01), ('2016-09-16', 0.06), ('2016-09-16', 0.61), ('2016-09-17', 0.05), ('2016-09-17', 0.04), ('2016-09-17', 0.0), ('2016-09-17', 0.36), ('2016-09-17', 0.23), ('2016-09-18', 0.0), ('2016-09-18', 0.0), ('2016-09-18', 0.04), ('2016-09-18', 0.07), ('2016-09-18', 0.42), ('2016-09-19', 0.0), ('2016-09-19', 0.01), ('2016-09-19', None), ('2016-09-19', None), ('2016-09-19', 0.05), ('2016-09-19', 0.01), ('2016-09-19', 0.25), ('2016-09-20', 0.0), ('2016-09-20', 0.09), ('2016-09-20', 0.25), ('2016-09-20', 0.0), ('2016-09-20', 0.04), ('2016-09-20', 0.22), ('2016-09-20', 0.43), ('2016-09-21', 0.0), ('2016-09-21', 0.06), ('2016-09-21', 0.02), ('2016-09-21', 0.0), ('2016-09-21', 0.07), ('2016-09-21', 1.02), ('2016-09-22', 0.02), ('2016-09-22', 0.09), ('2016-09-22', 0.17), ('2016-09-22', 0.06), ('2016-09-22', 0.01), ('2016-09-22', 0.34), ('2016-09-22', 0.75), ('2016-09-23', 0.0), ('2016-09-23', 0.15), ('2016-09-23', 0.15), ('2016-09-23', 0.0), ('2016-09-23', 0.0), ('2016-09-23', 0.94), ('2016-09-23', 0.33), ('2016-09-24', 0.0), ('2016-09-24', 0.0), ('2016-09-24', 0.0), ('2016-09-24', 0.0), ('2016-09-24', 0.01), ('2016-09-24', 0.27), ('2016-09-25', 0.0), ('2016-09-25', 0.02), ('2016-09-25', 0.0), ('2016-09-25', 0.0), ('2016-09-25', 0.03), ('2016-09-25', 0.04), ('2016-09-26', 0.06), ('2016-09-26', 0.06), ('2016-09-26', 0.02), ('2016-09-26', None), ('2016-09-26', 0.34), ('2016-09-26', 0.17), ('2016-09-26', 1.02), ('2016-09-27', 0.02), ('2016-09-27', 0.12), ('2016-09-27', 0.0), ('2016-09-27', 0.05), ('2016-09-27', 0.17), ('2016-09-27', 1.0), ('2016-09-28', 0.0), ('2016-09-28', 0.08), ('2016-09-28', 0.0), ('2016-09-28', 0.0), ('2016-09-28', 0.0), ('2016-09-28', 0.0), ('2016-09-28', 0.05), ('2016-09-29', 0.0), ('2016-09-29', 0.49), ('2016-09-29', 0.2), ('2016-09-29', 0.04), ('2016-09-29', 0.18), ('2016-09-29', 0.59), ('2016-09-29', 1.49), ('2016-09-30', 0.0), ('2016-09-30', 0.31), ('2016-09-30', 0.06), ('2016-09-30', None), ('2016-09-30', 0.15), ('2016-09-30', 0.25), ('2016-09-30', 0.38), ('2016-10-01', 0.0), ('2016-10-01', 0.14), ('2016-10-01', 0.08), ('2016-10-01', 0.07), ('2016-10-01', 0.14), ('2016-10-01', 1.02), ('2016-10-02', 0.0), ('2016-10-02', 0.02), ('2016-10-02', 0.03), ('2016-10-02', 0.0), ('2016-10-02', 0.06), ('2016-10-02', 0.61), ('2016-10-03', 0.0), ('2016-10-03', 0.04), ('2016-10-03', 0.03), ('2016-10-03', None), ('2016-10-03', 0.0), ('2016-10-03', 0.16), ('2016-10-03', 0.46), ('2016-10-04', 0.0), ('2016-10-04', 0.0), ('2016-10-04', 0.0), ('2016-10-04', None), ('2016-10-04', 0.0), ('2016-10-04', 0.03), ('2016-10-04', 3.46), ('2016-10-05', 0.0), ('2016-10-05', 0.0), ('2016-10-05', 0.0), ('2016-10-05', None), ('2016-10-05', 0.0), ('2016-10-05', 0.01), ('2016-10-05', 0.81), ('2016-10-06', 0.0), ('2016-10-06', 0.05), ('2016-10-06', 0.0), ('2016-10-06', 0.07), ('2016-10-06', 0.0), ('2016-10-06', 0.0), ('2016-10-06', 0.04), ('2016-10-07', 0.0), ('2016-10-07', 0.0), ('2016-10-07', 0.0), ('2016-10-07', None), ('2016-10-07', 0.0), ('2016-10-07', 0.0), ('2016-10-07', 0.01), ('2016-10-08', 0.0), ('2016-10-08', 0.0), ('2016-10-08', 0.0), ('2016-10-08', 0.0), ('2016-10-08', 0.04), ('2016-10-09', 0.0), ('2016-10-09', 0.0), ('2016-10-09', 0.0), ('2016-10-09', 0.0), ('2016-10-09', 0.0), ('2016-10-10', 0.0), ('2016-10-10', 0.0), ('2016-10-10', None), ('2016-10-10', 0.0), ('2016-10-10', 0.0), ('2016-10-10', 0.0), ('2016-10-11', 0.0), ('2016-10-11', 0.02), ('2016-10-11', 0.04), ('2016-10-11', None), ('2016-10-11', 0.0), ('2016-10-11', 0.28), ('2016-10-11', 0.35), ('2016-10-12', 0.0), ('2016-10-12', 0.03), ('2016-10-12', 0.0), ('2016-10-12', 0.0), ('2016-10-12', 0.03), ('2016-10-12', 0.02), ('2016-10-13', 0.0), ('2016-10-13', 0.0), ('2016-10-13', 0.02), ('2016-10-13', None), ('2016-10-13', 0.0), ('2016-10-13', 0.0), ('2016-10-13', 0.06), ('2016-10-14', 0.0), ('2016-10-14', 0.0), ('2016-10-14', 0.0), ('2016-10-14', 0.0), ('2016-10-14', 0.0), ('2016-10-14', 0.0), ('2016-10-15', 0.0), ('2016-10-15', 0.0), ('2016-10-15', 0.02), ('2016-10-15', 0.0), ('2016-10-15', 0.04), ('2016-10-15', 0.33), ('2016-10-16', 0.0), ('2016-10-16', 0.0), ('2016-10-16', 0.0), ('2016-10-16', 0.0), ('2016-10-16', 0.0), ('2016-10-17', 0.01), ('2016-10-17', 0.03), ('2016-10-17', None), ('2016-10-17', None), ('2016-10-17', 0.12), ('2016-10-17', 0.01), ('2016-10-17', 0.38), ('2016-10-18', 0.0), ('2016-10-18', 0.05), ('2016-10-18', 0.03), ('2016-10-18', None), ('2016-10-18', 0.02), ('2016-10-18', 0.02), ('2016-10-18', 0.48), ('2016-10-19', 0.0), ('2016-10-19', 0.06), ('2016-10-19', 0.0), ('2016-10-19', None), ('2016-10-19', 0.0), ('2016-10-19', 0.11), ('2016-10-19', 0.0), ('2016-10-20', 0.0), ('2016-10-20', 0.0), ('2016-10-20', 0.01), ('2016-10-20', None), ('2016-10-20', 0.0), ('2016-10-20', 1.0), ('2016-10-21', 0.05), ('2016-10-21', 0.15), ('2016-10-21', 0.03), ('2016-10-21', None), ('2016-10-21', None), ('2016-10-21', 0.0), ('2016-10-21', 0.09), ('2016-10-22', 0.15), ('2016-10-22', 0.1), ('2016-10-22', 0.0), ('2016-10-22', 0.15), ('2016-10-22', 1.37), ('2016-10-23', 0.01), ('2016-10-23', 0.01), ('2016-10-23', None), ('2016-10-23', 0.0), ('2016-10-23', 0.02), ('2016-10-23', 0.24), ('2016-10-24', 0.0), ('2016-10-24', 0.0), ('2016-10-24', 0.01), ('2016-10-24', None), ('2016-10-24', 0.0), ('2016-10-24', 0.08), ('2016-10-24', 0.7), ('2016-10-25', 0.03), ('2016-10-25', 0.04), ('2016-10-25', 0.0), ('2016-10-25', 0.4), ('2016-10-25', 0.12), ('2016-10-25', 0.11), ('2016-10-25', 0.4), ('2016-10-26', 0.0), ('2016-10-26', 0.06), ('2016-10-26', 0.2), ('2016-10-26', 0.02), ('2016-10-26', 0.01), ('2016-10-26', 0.0), ('2016-10-27', 0.0), ('2016-10-27', 0.11), ('2016-10-27', 0.2), ('2016-10-27', None), ('2016-10-27', 0.08), ('2016-10-27', 0.22), ('2016-10-27', 1.25), ('2016-10-28', 0.0), ('2016-10-28', 0.02), ('2016-10-28', 0.07), ('2016-10-28', None), ('2016-10-28', 0.06), ('2016-10-28', 0.05), ('2016-10-28', 0.37), ('2016-10-29', 0.0), ('2016-10-29', 0.02), ('2016-10-29', 0.26), ('2016-10-29', 0.01), ('2016-10-29', 0.1), ('2016-10-29', 0.25), ('2016-10-30', 0.24), ('2016-10-30', 0.1), ('2016-10-30', 0.14), ('2016-10-30', 0.0), ('2016-10-30', 0.16), ('2016-10-30', 0.95), ('2016-10-31', 0.03), ('2016-10-31', 0.03), ('2016-10-31', 0.0), ('2016-10-31', None), ('2016-10-31', 0.13), ('2016-10-31', 0.07), ('2016-10-31', 1.35), ('2016-11-01', 0.0), ('2016-11-01', 0.01), ('2016-11-01', 0.0), ('2016-11-01', 0.01), ('2016-11-01', 0.1), ('2016-11-01', 0.09), ('2016-11-02', 0.0), ('2016-11-02', 0.0), ('2016-11-02', 0.0), ('2016-11-02', 0.0), ('2016-11-02', 0.0), ('2016-11-02', 0.04), ('2016-11-03', 0.0), ('2016-11-03', 0.0), ('2016-11-03', 0.0), ('2016-11-03', 0.0), ('2016-11-03', 0.0), ('2016-11-03', 0.02), ('2016-11-04', 0.0), ('2016-11-04', 0.0), ('2016-11-04', 0.0), ('2016-11-04', None), ('2016-11-04', 0.0), ('2016-11-04', 0.0), ('2016-11-04', 0.06), ('2016-11-05', 0.0), ('2016-11-05', 0.02), ('2016-11-05', 0.0), ('2016-11-05', 0.02), ('2016-11-05', 0.03), ('2016-11-05', 0.38), ('2016-11-06', 0.0), ('2016-11-06', 0.02), ('2016-11-06', 0.0), ('2016-11-06', 0.0), ('2016-11-06', 0.01), ('2016-11-06', 0.05), ('2016-11-07', 0.0), ('2016-11-07', 0.0), ('2016-11-07', 0.13), ('2016-11-07', None), ('2016-11-07', 0.0), ('2016-11-07', 0.0), ('2016-11-07', 0.05), ('2016-11-08', 0.07), ('2016-11-08', 0.14), ('2016-11-08', 0.02), ('2016-11-08', 0.15), ('2016-11-08', 0.21), ('2016-11-08', 0.53), ('2016-11-09', 0.0), ('2016-11-09', 0.08), ('2016-11-09', 0.17), ('2016-11-09', 0.0), ('2016-11-09', 0.0), ('2016-11-09', 0.11), ('2016-11-09', 0.04), ('2016-11-10', 0.0), ('2016-11-10', 0.0), ('2016-11-10', 0.0), ('2016-11-10', 0.0), ('2016-11-10', 0.0), ('2016-11-10', 0.01), ('2016-11-11', 0.0), ('2016-11-11', 0.0), ('2016-11-11', 0.0), ('2016-11-11', 0.0), ('2016-11-11', 0.0), ('2016-11-11', 0.0), ('2016-11-12', 0.0), ('2016-11-12', 0.0), ('2016-11-12', 0.0), ('2016-11-12', 0.0), ('2016-11-12', 0.0), ('2016-11-12', 0.0), ('2016-11-13', 0.0), ('2016-11-13', 0.0), ('2016-11-13', 0.0), ('2016-11-13', 0.0), ('2016-11-13', 0.0), ('2016-11-13', 0.0), ('2016-11-14', 0.0), ('2016-11-14', 0.06), ('2016-11-14', 0.05), ('2016-11-14', 0.02), ('2016-11-14', 0.0), ('2016-11-14', 0.0), ('2016-11-14', 0.02), ('2016-11-15', 0.0), ('2016-11-15', 0.0), ('2016-11-15', 0.0), ('2016-11-15', None), ('2016-11-15', 0.0), ('2016-11-15', 0.0), ('2016-11-15', 0.05), ('2016-11-16', 0.0), ('2016-11-16', 0.14), ('2016-11-16', 0.18), ('2016-11-16', None), ('2016-11-16', 0.07), ('2016-11-16', 0.24), ('2016-11-16', 0.91), ('2016-11-17', 0.0), ('2016-11-17', 0.03), ('2016-11-17', 0.0), ('2016-11-17', None), ('2016-11-17', 0.0), ('2016-11-17', 0.01), ('2016-11-17', 0.02), ('2016-11-18', 0.0), ('2016-11-18', 0.01), ('2016-11-18', None), ('2016-11-18', 0.02), ('2016-11-18', 0.0), ('2016-11-19', 0.03), ('2016-11-19', 0.11), ('2016-11-19', 0.13), ('2016-11-19', 0.11), ('2016-11-20', 0.05), ('2016-11-20', 0.11), ('2016-11-20', 0.4), ('2016-11-20', 0.39), ('2016-11-20', None), ('2016-11-21', 0.01), ('2016-11-21', 0.02), ('2016-11-21', None), ('2016-11-21', 0.07), ('2016-11-21', 0.11), ('2016-11-21', 2.87), ('2016-11-22', 0.13), ('2016-11-22', 0.41), ('2016-11-22', None), ('2016-11-22', None), ('2016-11-22', 0.31), ('2016-11-22', 2.05), ('2016-11-22', 2.11), ('2016-11-23', 0.14), ('2016-11-23', 0.03), ('2016-11-23', None), ('2016-11-23', 0.03), ('2016-11-23', 0.25), ('2016-11-23', 0.22), ('2016-11-24', 0.05), ('2016-11-24', 0.2), ('2016-11-24', 0.21), ('2016-11-24', 0.3), ('2016-11-24', 0.72), ('2016-11-25', 0.05), ('2016-11-25', 0.05), ('2016-11-25', None), ('2016-11-25', 0.11), ('2016-11-25', 0.08), ('2016-11-25', 1.03), ('2016-11-26', 0.05), ('2016-11-26', 0.05), ('2016-11-26', 0.02), ('2016-11-26', 0.03), ('2016-11-26', 0.06), ('2016-11-26', 0.3), ('2016-11-27', 0.0), ('2016-11-27', 0.06), ('2016-11-27', 0.03), ('2016-11-27', 0.0), ('2016-11-27', 0.17), ('2016-11-27', 0.29), ('2016-11-28', 0.01), ('2016-11-28', 0.02), ('2016-11-28', 0.0), ('2016-11-28', None), ('2016-11-28', 0.0), ('2016-11-28', 0.0), ('2016-11-28', 0.69), ('2016-11-29', 0.0), ('2016-11-29', 0.04), ('2016-11-29', 0.04), ('2016-11-29', None), ('2016-11-29', 0.06), ('2016-11-29', 0.09), ('2016-11-29', 0.2), ('2016-11-30', 0.14), ('2016-11-30', 0.05), ('2016-11-30', 0.03), ('2016-11-30', None), ('2016-11-30', 0.0), ('2016-11-30', 0.05), ('2016-11-30', 0.79), ('2016-12-01', 0.12), ('2016-12-01', 0.33), ('2016-12-01', 0.07), ('2016-12-01', None), ('2016-12-01', 0.16), ('2016-12-01', 0.37), ('2016-12-01', 0.72), ('2016-12-02', 0.03), ('2016-12-02', 0.3), ('2016-12-02', 0.4), ('2016-12-02', None), ('2016-12-02', 0.01), ('2016-12-02', 0.35), ('2016-12-02', 1.27), ('2016-12-03', 0.0), ('2016-12-03', 0.04), ('2016-12-03', 0.26), ('2016-12-03', 0.02), ('2016-12-03', 0.77), ('2016-12-03', 1.62), ('2016-12-04', 0.03), ('2016-12-04', 0.1), ('2016-12-04', 0.0), ('2016-12-04', 0.32), ('2016-12-04', 0.04), ('2016-12-04', 0.31), ('2016-12-05', 0.43), ('2016-12-05', 0.34), ('2016-12-05', 0.2), ('2016-12-05', None), ('2016-12-05', 0.45), ('2016-12-05', 0.22), ('2016-12-05', 1.6), ('2016-12-06', 0.02), ('2016-12-06', 0.02), ('2016-12-06', None), ('2016-12-06', 0.0), ('2016-12-06', 0.0), ('2016-12-06', 0.0), ('2016-12-07', 0.0), ('2016-12-07', 0.17), ('2016-12-07', None), ('2016-12-07', None), ('2016-12-07', 0.07), ('2016-12-07', 0.12), ('2016-12-07', 0.02), ('2016-12-08', 0.03), ('2016-12-08', 0.03), ('2016-12-08', 0.02), ('2016-12-08', 0.27), ('2016-12-08', 0.01), ('2016-12-08', 0.07), ('2016-12-08', 0.03), ('2016-12-09', 0.52), ('2016-12-09', 0.34), ('2016-12-09', 0.26), ('2016-12-09', None), ('2016-12-09', 0.31), ('2016-12-09', 0.42), ('2016-12-10', 0.05), ('2016-12-10', 0.02), ('2016-12-10', 0.0), ('2016-12-10', None), ('2016-12-10', 0.02), ('2016-12-10', 0.04), ('2016-12-11', 0.04), ('2016-12-11', 0.02), ('2016-12-11', 0.06), ('2016-12-11', 0.0), ('2016-12-11', 0.13), ('2016-12-12', 0.01), ('2016-12-12', 0.01), ('2016-12-12', None), ('2016-12-12', 0.02), ('2016-12-12', 0.0), ('2016-12-12', 0.0), ('2016-12-12', 0.01), ('2016-12-13', 0.05), ('2016-12-13', 0.1), ('2016-12-13', 0.34), ('2016-12-13', None), ('2016-12-13', 0.15), ('2016-12-13', 0.04), ('2016-12-13', 0.09), ('2016-12-14', 0.03), ('2016-12-14', 0.05), ('2016-12-14', 0.12), ('2016-12-14', None), ('2016-12-14', 0.05), ('2016-12-14', 0.92), ('2016-12-14', 0.33), ('2016-12-15', 0.0), ('2016-12-15', 0.02), ('2016-12-15', 0.07), ('2016-12-15', None), ('2016-12-15', 0.0), ('2016-12-15', 0.14), ('2016-12-15', 0.03), ('2016-12-16', 0.0), ('2016-12-16', 0.01), ('2016-12-16', 0.0), ('2016-12-16', None), ('2016-12-16', 0.0), ('2016-12-16', 0.03), ('2016-12-16', 0.0), ('2016-12-17', 0.01), ('2016-12-17', 0.11), ('2016-12-17', 0.0), ('2016-12-17', 0.16), ('2016-12-17', 0.07), ('2016-12-18', 0.13), ('2016-12-18', 0.29), ('2016-12-18', 0.04), ('2016-12-18', 0.27), ('2016-12-18', 0.16), ('2016-12-18', None), ('2016-12-19', 0.01), ('2016-12-19', 0.21), ('2016-12-19', 0.0), ('2016-12-19', None), ('2016-12-19', 0.02), ('2016-12-19', 0.03), ('2016-12-19', 0.15), ('2016-12-20', 0.0), ('2016-12-20', 0.02), ('2016-12-20', 0.0), ('2016-12-20', None), ('2016-12-20', 0.01), ('2016-12-20', 0.0), ('2016-12-20', 0.0), ('2016-12-21', 0.0), ('2016-12-21', 0.03), ('2016-12-21', 0.09), ('2016-12-21', 0.06), ('2016-12-21', 0.06), ('2016-12-21', 0.11), ('2016-12-21', 0.55), ('2016-12-22', 0.01), ('2016-12-22', 0.17), ('2016-12-22', 0.05), ('2016-12-22', None), ('2016-12-22', 0.14), ('2016-12-22', 0.86), ('2016-12-22', 1.24), ('2016-12-23', 0.01), ('2016-12-23', 0.1), ('2016-12-23', 0.03), ('2016-12-23', None), ('2016-12-23', 0.02), ('2016-12-23', 0.24), ('2016-12-23', 0.83), ('2016-12-24', 0.01), ('2016-12-24', 0.14), ('2016-12-24', 0.13), ('2016-12-24', 0.06), ('2016-12-24', 0.2), ('2016-12-24', 1.08), ('2016-12-25', 0.0), ('2016-12-25', 0.03), ('2016-12-25', 0.0), ('2016-12-25', 0.02), ('2016-12-25', 0.38), ('2016-12-26', 0.02), ('2016-12-26', 0.26), ('2016-12-26', None), ('2016-12-26', 0.06), ('2016-12-26', 0.22), ('2016-12-26', 1.48), ('2016-12-27', 0.0), ('2016-12-27', 0.03), ('2016-12-27', 0.02), ('2016-12-27', 0.0), ('2016-12-27', 0.05), ('2016-12-27', 0.14), ('2016-12-28', 0.02), ('2016-12-28', 0.09), ('2016-12-28', 0.01), ('2016-12-28', None), ('2016-12-28', 0.06), ('2016-12-28', 0.09), ('2016-12-28', 0.14), ('2016-12-29', 0.04), ('2016-12-29', 0.18), ('2016-12-29', 0.56), ('2016-12-29', None), ('2016-12-29', 0.05), ('2016-12-29', 0.52), ('2016-12-29', 1.03), ('2016-12-30', 0.12), ('2016-12-30', 0.21), ('2016-12-30', 0.29), ('2016-12-30', None), ('2016-12-30', 0.07), ('2016-12-30', 0.29), ('2016-12-30', 2.37), ('2016-12-31', 0.01), ('2016-12-31', 0.62), ('2016-12-31', 0.36), ('2016-12-31', 0.25), ('2016-12-31', 0.9), ('2017-01-01', 0.0), ('2017-01-01', 0.29), ('2017-01-01', 0.0), ('2017-01-01', None), ('2017-01-01', 0.03), ('2017-01-01', 0.03), ('2017-01-02', 0.0), ('2017-01-02', 0.0), ('2017-01-02', 0.01), ('2017-01-02', 0.01), ('2017-01-02', 0.0), ('2017-01-03', 0.0), ('2017-01-03', 0.0), ('2017-01-03', 0.0), ('2017-01-03', None), ('2017-01-03', 0.0), ('2017-01-03', 0.0), ('2017-01-04', 0.0), ('2017-01-04', 0.0), ('2017-01-04', 0.0), ('2017-01-04', 0.18), ('2017-01-04', 0.0), ('2017-01-04', 0.0), ('2017-01-05', 0.0), ('2017-01-05', 0.0), ('2017-01-05', 0.0), ('2017-01-05', 0.42), ('2017-01-05', 0.06), ('2017-01-05', 0.47), ('2017-01-06', 0.0), ('2017-01-06', 0.0), ('2017-01-06', 0.59), ('2017-01-06', 0.01), ('2017-01-06', 0.1), ('2017-01-06', 0.1), ('2017-01-07', 0.0), ('2017-01-07', 0.06), ('2017-01-07', 0.0), ('2017-01-07', 0.0), ('2017-01-07', 0.0), ('2017-01-07', 0.0), ('2017-01-08', 0.0), ('2017-01-08', 0.0), ('2017-01-08', 0.03), ('2017-01-08', 0.0), ('2017-01-08', 0.0), ('2017-01-08', 0.03), ('2017-01-09', 0.0), ('2017-01-09', 0.0), ('2017-01-09', 0.0), ('2017-01-09', None), ('2017-01-09', 0.0), ('2017-01-09', 0.0), ('2017-01-09', 0.0), ('2017-01-10', 0.0), ('2017-01-10', 0.0), ('2017-01-10', 0.0), ('2017-01-10', None), ('2017-01-10', 0.0), ('2017-01-10', 0.0), ('2017-01-10', 0.0), ('2017-01-11', 0.0), ('2017-01-11', 0.0), ('2017-01-11', 0.0), ('2017-01-11', None), ('2017-01-11', 0.0), ('2017-01-11', 0.0), ('2017-01-12', 0.0), ('2017-01-12', 0.0), ('2017-01-12', None), ('2017-01-12', None), ('2017-01-12', 0.0), ('2017-01-12', 0.0), ('2017-01-13', 0.0), ('2017-01-13', 0.0), ('2017-01-13', None), ('2017-01-13', None), ('2017-01-13', 0.0), ('2017-01-13', 0.0), ('2017-01-14', 0.0), ('2017-01-14', 0.0), ('2017-01-14', 0.0), ('2017-01-14', 0.01), ('2017-01-14', 0.0), ('2017-01-15', 0.0), ('2017-01-15', 0.0), ('2017-01-15', None), ('2017-01-15', 0.0), ('2017-01-15', 0.01), ('2017-01-16', 0.0), ('2017-01-16', 0.0), ('2017-01-16', None), ('2017-01-16', 0.0), ('2017-01-16', 0.0), ('2017-01-16', 0.0), ('2017-01-17', 0.0), ('2017-01-17', 0.0), ('2017-01-17', 0.0), ('2017-01-17', 0.0), ('2017-01-17', 0.0), ('2017-01-17', 0.0), ('2017-01-18', 0.0), ('2017-01-18', 0.0), ('2017-01-18', 0.0), ('2017-01-18', 0.0), ('2017-01-18', None), ('2017-01-18', 0.0), ('2017-01-18', 0.07), ('2017-01-19', 0.0), ('2017-01-19', 0.0), ('2017-01-19', 0.0), ('2017-01-19', None), ('2017-01-19', 0.0), ('2017-01-19', 0.02), ('2017-01-19', 0.0), ('2017-01-20', 0.0), ('2017-01-20', 0.0), ('2017-01-20', 0.0), ('2017-01-20', None), ('2017-01-20', 0.0), ('2017-01-20', 0.0), ('2017-01-20', 0.0), ('2017-01-21', 0.0), ('2017-01-21', 0.04), ('2017-01-21', 0.02), ('2017-01-21', 0.11), ('2017-01-21', 0.03), ('2017-01-21', 0.08), ('2017-01-22', 0.16), ('2017-01-22', 0.01), ('2017-01-22', 0.04), ('2017-01-22', 0.09), ('2017-01-22', 0.72), ('2017-01-23', 0.0), ('2017-01-23', 0.08), ('2017-01-23', None), ('2017-01-23', None), ('2017-01-23', 0.0), ('2017-01-23', 0.01), ('2017-01-23', 0.85), ('2017-01-24', 0.04), ('2017-01-24', 0.15), ('2017-01-24', None), ('2017-01-24', 0.08), ('2017-01-24', 0.13), ('2017-01-24', 1.85), ('2017-01-25', 0.03), ('2017-01-25', 0.12), ('2017-01-25', None), ('2017-01-25', None), ('2017-01-25', 0.0), ('2017-01-25', 0.79), ('2017-01-25', 2.64), ('2017-01-26', 0.0), ('2017-01-26', 0.0), ('2017-01-26', 0.01), ('2017-01-26', 0.0), ('2017-01-26', 0.0), ('2017-01-26', 0.0), ('2017-01-26', 0.1), ('2017-01-27', 0.0), ('2017-01-27', 0.0), ('2017-01-27', 0.0), ('2017-01-27', 0.0), ('2017-01-27', 0.0), ('2017-01-27', 0.03), ('2017-01-27', 0.03), ('2017-01-28', 0.0), ('2017-01-28', 0.14), ('2017-01-28', 0.0), ('2017-01-28', 0.0), ('2017-01-28', 0.0), ('2017-01-29', 0.18), ('2017-01-29', 0.0), ('2017-01-29', None), ('2017-01-29', 0.26), ('2017-01-29', 0.55), ('2017-01-30', 0.0), ('2017-01-30', 0.0), ('2017-01-30', None), ('2017-01-30', 0.05), ('2017-01-30', 0.0), ('2017-01-30', 0.0), ('2017-01-30', 0.0), ('2017-01-31', 0.0), ('2017-01-31', 0.0), ('2017-01-31', 0.0), ('2017-01-31', 0.0), ('2017-01-31', 0.0), ('2017-01-31', 0.0), ('2017-01-31', 0.0), ('2017-02-01', 0.0), ('2017-02-01', 0.0), ('2017-02-01', 0.0), ('2017-02-01', 0.0), ('2017-02-01', 0.0), ('2017-02-01', 0.0), ('2017-02-01', 0.0), ('2017-02-02', 0.0), ('2017-02-02', 0.0), ('2017-02-02', 0.0), ('2017-02-02', 0.0), ('2017-02-02', 0.0), ('2017-02-02', 0.0), ('2017-02-02', 0.0), ('2017-02-03', 0.0), ('2017-02-03', 0.0), ('2017-02-03', 0.0), ('2017-02-03', 0.0), ('2017-02-03', 0.0), ('2017-02-03', 0.0), ('2017-02-04', 0.0), ('2017-02-04', 0.0), ('2017-02-04', 0.0), ('2017-02-04', 0.0), ('2017-02-04', None), ('2017-02-05', 0.0), ('2017-02-05', 0.0), ('2017-02-05', None), ('2017-02-05', 0.0), ('2017-02-05', 0.0), ('2017-02-05', 0.0), ('2017-02-06', 0.0), ('2017-02-06', 0.16), ('2017-02-06', 0.04), ('2017-02-06', None), ('2017-02-06', 0.0), ('2017-02-06', 0.18), ('2017-02-06', 0.0), ('2017-02-07', 0.51), ('2017-02-07', 1.08), ('2017-02-07', 0.9), ('2017-02-07', 0.0), ('2017-02-07', 1.8), ('2017-02-07', 1.32), ('2017-02-07', 1.79), ('2017-02-08', 0.0), ('2017-02-08', 1.08), ('2017-02-08', 0.0), ('2017-02-08', 0.0), ('2017-02-08', 0.0), ('2017-02-08', 0.0), ('2017-02-08', 0.0), ('2017-02-09', 0.0), ('2017-02-09', 0.02), ('2017-02-09', 0.0), ('2017-02-09', 0.0), ('2017-02-09', 0.0), ('2017-02-09', 0.0), ('2017-02-09', 0.0), ('2017-02-10', 0.0), ('2017-02-10', 0.0), ('2017-02-10', 0.0), ('2017-02-10', 0.0), ('2017-02-10', 0.0), ('2017-02-10', 0.0), ('2017-02-10', 0.0), ('2017-02-11', 0.31), ('2017-02-11', 1.0), ('2017-02-11', 2.39), ('2017-02-11', 5.04), ('2017-02-11', 1.73), ('2017-02-11', 0.73), ('2017-02-12', 2.62), ('2017-02-12', 1.07), ('2017-02-12', 1.91), ('2017-02-12', 0.07), ('2017-02-12', 2.98), ('2017-02-12', 1.83), ('2017-02-13', 0.01), ('2017-02-13', 2.9), ('2017-02-13', 0.0), ('2017-02-13', None), ('2017-02-13', 0.0), ('2017-02-13', 0.01), ('2017-02-13', 0.0), ('2017-02-14', 0.0), ('2017-02-14', 0.0), ('2017-02-14', 0.0), ('2017-02-14', 0.0), ('2017-02-14', 0.0), ('2017-02-14', 0.01), ('2017-02-15', 0.0), ('2017-02-15', 0.0), ('2017-02-15', 0.0), ('2017-02-15', None), ('2017-02-15', None), ('2017-02-15', 0.01), ('2017-02-15', 0.07), ('2017-02-16', 0.07), ('2017-02-16', 0.0), ('2017-02-16', 0.62), ('2017-02-16', None), ('2017-02-16', 0.67), ('2017-02-16', 0.73), ('2017-02-16', 0.13), ('2017-02-17', 0.0), ('2017-02-17', 0.8), ('2017-02-17', 0.06), ('2017-02-17', 0.0), ('2017-02-17', 0.06), ('2017-02-17', 0.13), ('2017-02-18', 0.0), ('2017-02-18', 0.0), ('2017-02-18', 0.01), ('2017-02-18', 0.0), ('2017-02-18', None), ('2017-02-19', 0.0), ('2017-02-19', 0.0), ('2017-02-19', 0.09), ('2017-02-19', 0.1), ('2017-02-20', 0.0), ('2017-02-20', 0.0), ('2017-02-20', None), ('2017-02-20', None), ('2017-02-20', 0.0), ('2017-02-20', 0.0), ('2017-02-21', 0.06), ('2017-02-21', 0.0), ('2017-02-21', 0.0), ('2017-02-21', None), ('2017-02-21', 0.0), ('2017-02-21', 0.07), ('2017-02-22', 0.06), ('2017-02-22', 0.06), ('2017-02-22', 0.11), ('2017-02-22', 0.17), ('2017-02-22', 0.13), ('2017-02-22', 0.06), ('2017-02-22', 0.32), ('2017-02-23', 0.01), ('2017-02-23', 0.0), ('2017-02-23', 0.0), ('2017-02-23', 0.0), ('2017-02-23', 0.0), ('2017-02-23', 0.0), ('2017-02-23', 0.0), ('2017-02-24', 0.0), ('2017-02-24', 0.0), ('2017-02-24', 0.0), ('2017-02-24', 0.0), ('2017-02-24', 0.0), ('2017-02-24', 0.0), ('2017-02-24', 0.0), ('2017-02-25', 0.03), ('2017-02-25', 0.0), ('2017-02-25', 0.0), ('2017-02-25', 0.12), ('2017-02-26', 0.0), ('2017-02-26', 0.0), ('2017-02-26', None), ('2017-02-26', None), ('2017-02-26', 0.0), ('2017-02-26', 0.0), ('2017-02-27', 0.0), ('2017-02-27', 0.0), ('2017-02-27', 0.0), ('2017-02-27', None), ('2017-02-27', 0.0), ('2017-02-27', 0.0), ('2017-02-27', 0.0), ('2017-02-28', 0.0), ('2017-02-28', 0.16), ('2017-02-28', 0.04), ('2017-02-28', None), ('2017-02-28', 0.0), ('2017-02-28', 0.04), ('2017-02-28', 0.58), ('2017-03-01', 1.19), ('2017-03-01', 2.2), ('2017-03-01', 1.12), ('2017-03-01', 2.4), ('2017-03-01', 0.59), ('2017-03-01', 2.12), ('2017-03-01', 2.0), ('2017-03-02', 0.73), ('2017-03-02', 1.45), ('2017-03-02', 0.44), ('2017-03-02', 1.48), ('2017-03-02', 1.88), ('2017-03-02', 0.58), ('2017-03-03', 0.47), ('2017-03-03', 0.54), ('2017-03-03', None), ('2017-03-03', 0.14), ('2017-03-03', 0.25), ('2017-03-03', 0.27), ('2017-03-03', 0.56), ('2017-03-04', 0.0), ('2017-03-04', 0.0), ('2017-03-04', 0.0), ('2017-03-04', 0.0), ('2017-03-04', 0.0), ('2017-03-05', 0.35), ('2017-03-05', 0.1), ('2017-03-05', 0.41), ('2017-03-05', 0.35), ('2017-03-06', 0.0), ('2017-03-06', 0.51), ('2017-03-06', None), ('2017-03-06', None), ('2017-03-06', None), ('2017-03-06', 0.03), ('2017-03-06', 0.0), ('2017-03-07', 0.0), ('2017-03-07', 0.0), ('2017-03-07', 0.0), ('2017-03-07', None), ('2017-03-07', 0.0), ('2017-03-07', 0.0), ('2017-03-08', 0.0), ('2017-03-08', 0.0), ('2017-03-08', 0.0), ('2017-03-08', None), ('2017-03-08', 0.0), ('2017-03-08', 0.0), ('2017-03-09', 0.0), ('2017-03-09', 0.8), ('2017-03-09', 0.5), ('2017-03-09', 0.0), ('2017-03-09', None), ('2017-03-09', 0.65), ('2017-03-09', 0.01), ('2017-03-10', 0.0), ('2017-03-10', 0.13), ('2017-03-10', 0.13), ('2017-03-10', 0.0), ('2017-03-10', 0.0), ('2017-03-10', 0.03), ('2017-03-10', 0.0), ('2017-03-11', 0.0), ('2017-03-11', 0.03), ('2017-03-11', 0.0), ('2017-03-11', 0.01), ('2017-03-11', 0.0), ('2017-03-12', 0.0), ('2017-03-12', 0.0), ('2017-03-12', None), ('2017-03-12', 0.0), ('2017-03-12', 0.0), ('2017-03-13', 0.0), ('2017-03-13', 0.0), ('2017-03-13', 0.0), ('2017-03-13', None), ('2017-03-13', 0.0), ('2017-03-13', 0.0), ('2017-03-13', None), ('2017-03-14', 0.0), ('2017-03-14', 0.0), ('2017-03-14', 0.0), ('2017-03-14', 0.06), ('2017-03-14', 0.0), ('2017-03-14', 0.0), ('2017-03-14', 0.0), ('2017-03-15', 0.0), ('2017-03-15', 0.0), ('2017-03-15', 0.0), ('2017-03-15', 0.0), ('2017-03-15', 0.06), ('2017-03-15', 0.0), ('2017-03-16', 0.0), ('2017-03-16', 0.0), ('2017-03-16', None), ('2017-03-16', None), ('2017-03-16', 0.0), ('2017-03-16', 0.0), ('2017-03-16', 0.0), ('2017-03-17', 0.0), ('2017-03-17', 0.19), ('2017-03-17', 0.06), ('2017-03-17', None), ('2017-03-17', 0.35), ('2017-03-17', 0.12), ('2017-03-18', 0.0), ('2017-03-18', 0.0), ('2017-03-18', 0.0), ('2017-03-18', 0.0), ('2017-03-18', 0.0), ('2017-03-18', None), ('2017-03-19', 0.0), ('2017-03-19', 0.0), ('2017-03-19', 0.0), ('2017-03-19', 0.0), ('2017-03-19', 0.0), ('2017-03-20', 0.0), ('2017-03-20', 0.0), ('2017-03-20', None), ('2017-03-20', 0.0), ('2017-03-20', 0.02), ('2017-03-20', 0.0), ('2017-03-21', 0.0), ('2017-03-21', 0.0), ('2017-03-21', 0.0), ('2017-03-21', 0.0), ('2017-03-21', 0.09), ('2017-03-21', 0.0), ('2017-03-22', 0.0), ('2017-03-22', 0.0), ('2017-03-22', 0.0), ('2017-03-22', 0.0), ('2017-03-22', 0.0), ('2017-03-22', 0.0), ('2017-03-23', 0.0), ('2017-03-23', 0.0), ('2017-03-23', 0.0), ('2017-03-23', 0.02), ('2017-03-23', 0.0), ('2017-03-23', 0.03), ('2017-03-24', 0.02), ('2017-03-24', 0.6), ('2017-03-24', 0.15), ('2017-03-24', 0.07), ('2017-03-24', 0.12), ('2017-03-24', 0.17), ('2017-03-25', 0.0), ('2017-03-25', 0.13), ('2017-03-25', 0.43), ('2017-03-25', 0.93), ('2017-03-25', 0.48), ('2017-03-26', 0.0), ('2017-03-26', 0.0), ('2017-03-26', 0.0), ('2017-03-26', 0.0), ('2017-03-26', 0.0), ('2017-03-27', 0.0), ('2017-03-27', 0.0), ('2017-03-27', None), ('2017-03-27', 0.0), ('2017-03-27', 0.01), ('2017-03-27', 0.0), ('2017-03-28', 0.0), ('2017-03-28', 0.03), ('2017-03-28', 0.0), ('2017-03-28', None), ('2017-03-28', 0.0), ('2017-03-28', 0.0), ('2017-03-28', 0.68), ('2017-03-29', 0.0), ('2017-03-29', 0.0), ('2017-03-29', 0.03), ('2017-03-29', None), ('2017-03-29', 0.08), ('2017-03-29', 0.01), ('2017-03-29', 0.07), ('2017-03-30', 0.0), ('2017-03-30', 0.08), ('2017-03-30', 0.03), ('2017-03-30', None), ('2017-03-30', 0.0), ('2017-03-30', 0.04), ('2017-03-31', 0.0), ('2017-03-31', 0.0), ('2017-03-31', 0.0), ('2017-03-31', 0.0), ('2017-03-31', 0.0), ('2017-03-31', 0.01), ('2017-03-31', None), ('2017-04-01', 0.0), ('2017-04-01', 0.0), ('2017-04-01', 0.0), ('2017-04-01', 0.0), ('2017-04-01', 0.21), ('2017-04-01', 0.2), ('2017-04-02', 0.0), ('2017-04-02', 0.0), ('2017-04-02', 0.0), ('2017-04-02', 0.0), ('2017-04-02', 0.0), ('2017-04-02', 0.0), ('2017-04-03', 0.0), ('2017-04-03', 0.08), ('2017-04-03', 0.09), ('2017-04-03', None), ('2017-04-03', 0.0), ('2017-04-03', 0.26), ('2017-04-03', 0.23), ('2017-04-04', 0.0), ('2017-04-04', 0.04), ('2017-04-04', 0.0), ('2017-04-04', 0.0), ('2017-04-04', 0.0), ('2017-04-04', 0.09), ('2017-04-04', 0.02), ('2017-04-05', 0.0), ('2017-04-05', 0.04), ('2017-04-05', 0.07), ('2017-04-05', 0.0), ('2017-04-05', 0.0), ('2017-04-05', 0.1), ('2017-04-05', 0.45), ('2017-04-06', 0.0), ('2017-04-06', 0.0), ('2017-04-06', 0.0), ('2017-04-06', 0.0), ('2017-04-06', 0.0), ('2017-04-06', 0.06), ('2017-04-06', 0.0), ('2017-04-07', 0.0), ('2017-04-07', 0.0), ('2017-04-07', 0.0), ('2017-04-07', 0.0), ('2017-04-07', 0.0), ('2017-04-07', 0.0), ('2017-04-08', 0.0), ('2017-04-08', 0.0), ('2017-04-08', 0.0), ('2017-04-08', None), ('2017-04-09', 0.0), ('2017-04-09', 0.0), ('2017-04-09', None), ('2017-04-09', None), ('2017-04-09', 0.0), ('2017-04-09', 0.0), ('2017-04-10', 0.0), ('2017-04-10', 0.01), ('2017-04-10', 0.0), ('2017-04-10', None), ('2017-04-10', 0.0), ('2017-04-10', 0.01), ('2017-04-10', 0.0), ('2017-04-11', 0.0), ('2017-04-11', 0.03), ('2017-04-11', 0.16), ('2017-04-11', None), ('2017-04-11', 0.0), ('2017-04-11', 0.03), ('2017-04-11', 0.25), ('2017-04-12', 0.0), ('2017-04-12', 0.03), ('2017-04-12', 0.29), ('2017-04-12', None), ('2017-04-12', 0.0), ('2017-04-12', 0.11), ('2017-04-12', 0.65), ('2017-04-13', 0.0), ('2017-04-13', 0.27), ('2017-04-13', 0.0), ('2017-04-13', None), ('2017-04-13', 0.0), ('2017-04-13', 0.59), ('2017-04-13', 0.23), ('2017-04-14', 0.26), ('2017-04-14', 0.69), ('2017-04-14', 0.29), ('2017-04-14', 0.36), ('2017-04-14', 2.3), ('2017-04-14', 2.82), ('2017-04-15', 0.01), ('2017-04-15', 0.45), ('2017-04-15', 0.0), ('2017-04-15', 0.38), ('2017-04-15', 0.9), ('2017-04-16', 0.0), ('2017-04-16', 0.49), ('2017-04-16', 0.0), ('2017-04-16', 0.47), ('2017-04-16', 0.11), ('2017-04-17', 0.02), ('2017-04-17', 0.41), ('2017-04-17', None), ('2017-04-17', None), ('2017-04-17', 0.3), ('2017-04-17', 1.04), ('2017-04-17', 1.3), ('2017-04-18', 0.0), ('2017-04-18', 0.08), ('2017-04-18', 0.12), ('2017-04-18', 0.0), ('2017-04-18', 0.15), ('2017-04-18', 2.03), ('2017-04-18', 0.98), ('2017-04-19', 0.02), ('2017-04-19', 0.02), ('2017-04-19', 0.0), ('2017-04-19', None), ('2017-04-19', 0.0), ('2017-04-19', 0.02), ('2017-04-19', 0.14), ('2017-04-20', 0.05), ('2017-04-20', 0.33), ('2017-04-20', 0.0), ('2017-04-20', None), ('2017-04-20', 0.35), ('2017-04-20', 0.05), ('2017-04-20', 0.0), ('2017-04-21', 0.23), ('2017-04-21', 1.16), ('2017-04-21', 1.05), ('2017-04-21', None), ('2017-04-21', 2.36), ('2017-04-21', 1.74), ('2017-04-21', 1.84), ('2017-04-22', 0.32), ('2017-04-22', 1.01), ('2017-04-22', 0.7), ('2017-04-22', 1.58), ('2017-04-22', 1.35), ('2017-04-23', 0.03), ('2017-04-23', 0.02), ('2017-04-23', 0.06), ('2017-04-23', 0.35), ('2017-04-24', 0.0), ('2017-04-24', 0.0), ('2017-04-24', None), ('2017-04-24', None), ('2017-04-24', None), ('2017-04-24', 0.01), ('2017-04-24', 0.05), ('2017-04-25', 0.0), ('2017-04-25', 0.0), ('2017-04-25', 0.0), ('2017-04-25', None), ('2017-04-25', 0.0), ('2017-04-25', 0.0), ('2017-04-25', 0.0), ('2017-04-26', 0.0), ('2017-04-26', 0.0), ('2017-04-26', 0.14), ('2017-04-26', 0.01), ('2017-04-26', 0.02), ('2017-04-26', 0.22), ('2017-04-27', 0.0), ('2017-04-27', 0.1), ('2017-04-27', 0.02), ('2017-04-27', None), ('2017-04-27', 0.0), ('2017-04-27', 0.19), ('2017-04-27', 0.11), ('2017-04-28', 0.0), ('2017-04-28', 2.6), ('2017-04-28', 0.09), ('2017-04-28', None), ('2017-04-28', 0.0), ('2017-04-28', 0.76), ('2017-04-28', 0.79), ('2017-04-29', 0.12), ('2017-04-29', 0.35), ('2017-04-29', 0.95), ('2017-04-29', 6.25), ('2017-04-29', 0.37), ('2017-04-29', 0.0), ('2017-04-30', 0.89), ('2017-04-30', 1.21), ('2017-04-30', 1.17), ('2017-04-30', 1.31), ('2017-04-30', 1.04), ('2017-04-30', 0.8), ('2017-05-01', 0.26), ('2017-05-01', 0.07), ('2017-05-01', 0.03), ('2017-05-01', 0.07), ('2017-05-01', 0.13), ('2017-05-01', 0.25), ('2017-05-02', 0.0), ('2017-05-02', 0.03), ('2017-05-02', 0.01), ('2017-05-02', 0.0), ('2017-05-02', 0.01), ('2017-05-02', 0.0), ('2017-05-03', 0.0), ('2017-05-03', 0.01), ('2017-05-03', 0.01), ('2017-05-03', 0.0), ('2017-05-03', 0.01), ('2017-05-04', 0.0), ('2017-05-04', 0.0), ('2017-05-04', 0.08), ('2017-05-04', 0.0), ('2017-05-04', 0.0), ('2017-05-04', None), ('2017-05-05', 0.0), ('2017-05-05', 0.0), ('2017-05-05', 0.28), ('2017-05-05', 0.0), ('2017-05-05', 0.0), ('2017-05-05', 0.1), ('2017-05-06', 0.0), ('2017-05-06', 0.0), ('2017-05-06', 0.06), ('2017-05-06', 0.0), ('2017-05-06', 0.0), ('2017-05-06', 0.0), ('2017-05-07', 0.0), ('2017-05-07', 0.07), ('2017-05-07', 0.0), ('2017-05-07', 0.02), ('2017-05-07', 0.03), ('2017-05-08', 0.0), ('2017-05-08', 0.22), ('2017-05-08', 0.95), ('2017-05-08', 0.0), ('2017-05-08', 0.73), ('2017-05-08', 1.11), ('2017-05-09', 1.62), ('2017-05-09', 0.52), ('2017-05-09', 0.68), ('2017-05-09', 1.58), ('2017-05-09', 0.23), ('2017-05-10', 0.0), ('2017-05-10', 0.05), ('2017-05-10', 0.0), ('2017-05-10', 0.06), ('2017-05-10', 0.2), ('2017-05-10', 0.55), ('2017-05-11', 0.01), ('2017-05-11', 0.03), ('2017-05-11', 0.0), ('2017-05-11', 0.12), ('2017-05-11', 0.44), ('2017-05-12', 0.0), ('2017-05-12', 0.04), ('2017-05-12', None), ('2017-05-12', 0.0), ('2017-05-12', 0.02), ('2017-05-12', 0.1), ('2017-05-13', 0.0), ('2017-05-13', 0.02), ('2017-05-13', 0.0), ('2017-05-13', 0.12), ('2017-05-13', 0.1), ('2017-05-14', 0.0), ('2017-05-14', 0.05), ('2017-05-14', 0.0), ('2017-05-14', 0.17), ('2017-05-14', 1.0), ('2017-05-15', 0.05), ('2017-05-15', 0.08), ('2017-05-15', None), ('2017-05-15', 0.06), ('2017-05-15', 0.09), ('2017-05-15', 0.6), ('2017-05-16', 0.01), ('2017-05-16', 0.03), ('2017-05-16', 0.05), ('2017-05-16', 0.0), ('2017-05-16', 0.03), ('2017-05-16', 0.3), ('2017-05-17', 0.0), ('2017-05-17', 0.02), ('2017-05-17', 0.0), ('2017-05-17', 0.0), ('2017-05-17', 0.07), ('2017-05-17', 0.06), ('2017-05-18', 0.01), ('2017-05-18', 0.09), ('2017-05-18', 0.16), ('2017-05-18', 0.46), ('2017-05-18', 0.13), ('2017-05-18', 0.0), ('2017-05-19', 0.0), ('2017-05-19', 0.02), ('2017-05-19', 0.01), ('2017-05-19', 0.01), ('2017-05-20', 0.0), ('2017-05-20', 0.0), ('2017-05-20', 0.01), ('2017-05-20', None), ('2017-05-20', 0.02), ('2017-05-20', None), ('2017-05-21', 0.0), ('2017-05-21', 0.0), ('2017-05-21', 0.0), ('2017-05-21', 0.01), ('2017-05-21', 0.0), ('2017-05-22', 0.0), ('2017-05-22', 0.0), ('2017-05-22', None), ('2017-05-22', 0.0), ('2017-05-22', 0.06), ('2017-05-22', 0.3), ('2017-05-23', 0.08), ('2017-05-23', 0.02), ('2017-05-23', 0.11), ('2017-05-23', 0.0), ('2017-05-23', 0.06), ('2017-05-23', 0.44), ('2017-05-24', 0.13), ('2017-05-24', 0.58), ('2017-05-24', 0.1), ('2017-05-24', 0.61), ('2017-05-24', 0.3), ('2017-05-24', 2.17), ('2017-05-25', 0.15), ('2017-05-25', 0.37), ('2017-05-25', 0.07), ('2017-05-25', 0.55), ('2017-05-25', 0.2), ('2017-05-25', 0.88), ('2017-05-26', 0.02), ('2017-05-26', 0.0), ('2017-05-26', 0.0), ('2017-05-26', 0.0), ('2017-05-26', 0.0), ('2017-05-27', 0.01), ('2017-05-27', 0.0), ('2017-05-27', 0.0), ('2017-05-27', 0.0), ('2017-05-27', 0.0), ('2017-05-27', 0.5), ('2017-05-28', 0.02), ('2017-05-28', 0.29), ('2017-05-28', 0.02), ('2017-05-28', 0.0), ('2017-05-28', 0.08), ('2017-05-28', 0.0), ('2017-05-29', 0.0), ('2017-05-29', 0.02), ('2017-05-29', 0.0), ('2017-05-29', 0.0), ('2017-05-29', 0.4), ('2017-05-30', 0.26), ('2017-05-30', 0.2), ('2017-05-30', 0.04), ('2017-05-30', 0.11), ('2017-05-30', 1.12), ('2017-05-30', None), ('2017-05-31', 0.02), ('2017-05-31', 0.1), ('2017-05-31', 0.0), ('2017-05-31', 0.0), ('2017-05-31', 0.25), ('2017-06-01', 0.0), ('2017-06-01', 0.03), ('2017-06-01', 0.0), ('2017-06-01', 0.0), ('2017-06-01', 0.0), ('2017-06-01', 0.01), ('2017-06-02', 0.0), ('2017-06-02', 0.1), ('2017-06-02', 0.15), ('2017-06-02', None), ('2017-06-02', 0.0), ('2017-06-02', 0.09), ('2017-06-03', 0.02), ('2017-06-03', 0.2), ('2017-06-03', 0.16), ('2017-06-03', 0.15), ('2017-06-03', 0.08), ('2017-06-03', None), ('2017-06-04', 0.0), ('2017-06-04', 0.15), ('2017-06-04', 0.05), ('2017-06-04', 0.0), ('2017-06-04', 0.13), ('2017-06-04', 0.82), ('2017-06-05', 0.0), ('2017-06-05', 0.0), ('2017-06-05', 0.02), ('2017-06-05', None), ('2017-06-05', 0.0), ('2017-06-05', 0.05), ('2017-06-05', 0.01), ('2017-06-06', 0.0), ('2017-06-06', 0.0), ('2017-06-06', 0.0), ('2017-06-06', None), ('2017-06-06', 0.0), ('2017-06-06', 0.0), ('2017-06-06', 0.0), ('2017-06-07', 0.0), ('2017-06-07', 0.0), ('2017-06-07', 0.0), ('2017-06-07', None), ('2017-06-07', 0.0), ('2017-06-07', 0.0), ('2017-06-07', 0.01), ('2017-06-08', 0.0), ('2017-06-08', 0.02), ('2017-06-08', 0.01), ('2017-06-08', None), ('2017-06-08', 0.0), ('2017-06-08', 0.0), ('2017-06-08', 0.0), ('2017-06-09', 0.0), ('2017-06-09', 0.02), ('2017-06-09', 0.0), ('2017-06-09', None), ('2017-06-09', 0.0), ('2017-06-09', 0.02), ('2017-06-10', 0.04), ('2017-06-10', 0.21), ('2017-06-10', 0.53), ('2017-06-10', 0.13), ('2017-06-10', 0.62), ('2017-06-10', None), ('2017-06-11', 0.08), ('2017-06-11', 0.24), ('2017-06-11', 0.14), ('2017-06-11', 0.25), ('2017-06-11', 0.74), ('2017-06-11', 0.7), ('2017-06-12', 0.02), ('2017-06-12', 0.19), ('2017-06-12', 0.35), ('2017-06-12', 0.14), ('2017-06-12', 0.24), ('2017-06-12', 0.81), ('2017-06-13', 0.0), ('2017-06-13', 0.36), ('2017-06-13', 0.1), ('2017-06-13', None), ('2017-06-13', 0.03), ('2017-06-13', 0.24), ('2017-06-13', 0.65), ('2017-06-14', 0.0), ('2017-06-14', 0.27), ('2017-06-14', 0.21), ('2017-06-14', None), ('2017-06-14', 0.06), ('2017-06-14', 0.22), ('2017-06-14', 0.81), ('2017-06-15', 0.0), ('2017-06-15', 0.17), ('2017-06-15', 0.3), ('2017-06-15', None), ('2017-06-15', 0.0), ('2017-06-15', 0.55), ('2017-06-15', 1.69), ('2017-06-16', 0.0), ('2017-06-16', 0.02), ('2017-06-16', 0.02), ('2017-06-16', None), ('2017-06-16', 0.0), ('2017-06-16', 0.06), ('2017-06-16', 0.1), ('2017-06-17', 0.0), ('2017-06-17', 0.35), ('2017-06-17', 0.02), ('2017-06-17', 0.0), ('2017-06-17', 0.07), ('2017-06-17', 0.1), ('2017-06-18', 0.05), ('2017-06-18', 0.25), ('2017-06-18', 0.18), ('2017-06-18', 0.0), ('2017-06-18', 0.24), ('2017-06-18', 0.7), ('2017-06-19', 0.0), ('2017-06-19', 0.05), ('2017-06-19', 0.19), ('2017-06-19', None), ('2017-06-19', 0.01), ('2017-06-19', 0.08), ('2017-06-19', 0.4), ('2017-06-20', 0.02), ('2017-06-20', 0.05), ('2017-06-20', 0.17), ('2017-06-20', None), ('2017-06-20', 0.0), ('2017-06-20', 0.31), ('2017-06-21', 0.0), ('2017-06-21', 0.02), ('2017-06-21', None), ('2017-06-21', None), ('2017-06-21', 0.19), ('2017-06-21', 0.3), ('2017-06-22', 0.0), ('2017-06-22', 0.1), ('2017-06-22', 0.0), ('2017-06-22', 0.0), ('2017-06-22', 0.06), ('2017-06-22', 0.28), ('2017-06-23', 0.0), ('2017-06-23', 0.0), ('2017-06-23', None), ('2017-06-23', 0.0), ('2017-06-23', 0.05), ('2017-06-23', 0.12), ('2017-06-23', 0.5), ('2017-06-24', 0.06), ('2017-06-24', 0.0), ('2017-06-24', 0.0), ('2017-06-24', 0.36), ('2017-06-24', 0.22), ('2017-06-25', 0.0), ('2017-06-25', 0.08), ('2017-06-25', 0.0), ('2017-06-25', 0.02), ('2017-06-25', 0.5), ('2017-06-26', 0.0), ('2017-06-26', 0.02), ('2017-06-26', None), ('2017-06-26', None), ('2017-06-26', 0.0), ('2017-06-26', 0.06), ('2017-06-26', 0.02), ('2017-06-27', 0.0), ('2017-06-27', 0.0), ('2017-06-27', 0.0), ('2017-06-27', 0.0), ('2017-06-27', 0.01), ('2017-06-27', 0.1), ('2017-06-28', 0.0), ('2017-06-28', 0.01), ('2017-06-28', 0.0), ('2017-06-28', 0.0), ('2017-06-28', 0.0), ('2017-06-28', 0.02), ('2017-06-29', 0.0), ('2017-06-29', 0.03), ('2017-06-29', None), ('2017-06-29', 0.0), ('2017-06-29', 0.0), ('2017-06-29', 0.0), ('2017-06-29', 0.04), ('2017-06-30', 0.08), ('2017-06-30', 0.04), ('2017-06-30', 0.0), ('2017-06-30', 0.12), ('2017-06-30', 0.07), ('2017-06-30', 0.01), ('2017-06-30', 0.2), ('2017-07-01', 0.02), ('2017-07-01', 0.06), ('2017-07-01', 0.08), ('2017-07-01', 0.1), ('2017-07-02', 0.02), ('2017-07-02', 0.05), ('2017-07-02', None), ('2017-07-02', 0.15), ('2017-07-02', 0.5), ('2017-07-03', 0.04), ('2017-07-03', 0.13), ('2017-07-03', None), ('2017-07-03', None), ('2017-07-03', 0.02), ('2017-07-03', 0.15), ('2017-07-03', 0.4), ('2017-07-04', 0.04), ('2017-07-04', 0.03), ('2017-07-04', 0.08), ('2017-07-04', 0.0), ('2017-07-05', 0.0), ('2017-07-05', 0.0), ('2017-07-05', None), ('2017-07-05', None), ('2017-07-05', None), ('2017-07-05', 0.0), ('2017-07-05', 0.0), ('2017-07-06', 0.0), ('2017-07-06', 0.0), ('2017-07-06', None), ('2017-07-06', 0.0), ('2017-07-06', 0.0), ('2017-07-06', 0.02), ('2017-07-07', 0.0), ('2017-07-07', 0.02), ('2017-07-07', None), ('2017-07-07', None), ('2017-07-07', 0.0), ('2017-07-07', 0.18), ('2017-07-07', 0.3), ('2017-07-08', 0.0), ('2017-07-08', 0.02), ('2017-07-08', 0.06), ('2017-07-08', 0.0), ('2017-07-08', 0.0), ('2017-07-08', 0.02), ('2017-07-09', 0.0), ('2017-07-09', 0.09), ('2017-07-09', 0.0), ('2017-07-09', 0.0), ('2017-07-09', 0.11), ('2017-07-09', 0.0), ('2017-07-10', 0.0), ('2017-07-10', 0.0), ('2017-07-10', 0.0), ('2017-07-10', None), ('2017-07-10', 0.0), ('2017-07-10', 0.02), ('2017-07-10', 0.02), ('2017-07-11', 0.0), ('2017-07-11', 0.01), ('2017-07-11', 0.0), ('2017-07-11', None), ('2017-07-11', 0.0), ('2017-07-11', 0.02), ('2017-07-11', 0.0), ('2017-07-12', 0.0), ('2017-07-12', 0.01), ('2017-07-12', 0.02), ('2017-07-12', None), ('2017-07-12', 0.0), ('2017-07-12', 0.28), ('2017-07-12', 0.05), ('2017-07-13', 0.07), ('2017-07-13', 0.33), ('2017-07-13', 0.3), ('2017-07-13', None), ('2017-07-13', 0.11), ('2017-07-13', 0.32), ('2017-07-13', 0.68), ('2017-07-14', 0.02), ('2017-07-14', 0.05), ('2017-07-14', 0.0), ('2017-07-14', 0.0), ('2017-07-14', 0.2), ('2017-07-14', 0.68), ('2017-07-15', 0.0), ('2017-07-15', 0.03), ('2017-07-15', 0.01), ('2017-07-15', 0.0), ('2017-07-15', 0.05), ('2017-07-15', 0.1), ('2017-07-16', 0.02), ('2017-07-16', 0.07), ('2017-07-16', 0.12), ('2017-07-16', 0.0), ('2017-07-16', 0.1), ('2017-07-16', 0.5), ('2017-07-17', 0.03), ('2017-07-17', 0.12), ('2017-07-17', 0.16), ('2017-07-17', 0.0), ('2017-07-17', 0.21), ('2017-07-17', 0.39), ('2017-07-18', 0.05), ('2017-07-18', 0.03), ('2017-07-18', 0.0), ('2017-07-18', 0.0), ('2017-07-18', 0.0), ('2017-07-18', 0.05), ('2017-07-18', 2.4), ('2017-07-19', 0.0), ('2017-07-19', 0.09), ('2017-07-19', 0.0), ('2017-07-19', 0.0), ('2017-07-19', 0.05), ('2017-07-19', 0.27), ('2017-07-20', 0.03), ('2017-07-20', 0.12), ('2017-07-20', 0.0), ('2017-07-20', 0.0), ('2017-07-20', 0.33), ('2017-07-20', 0.06), ('2017-07-20', 0.7), ('2017-07-21', 0.0), ('2017-07-21', 0.0), ('2017-07-21', 0.0), ('2017-07-21', 0.0), ('2017-07-21', 0.0), ('2017-07-21', 0.03), ('2017-07-21', 0.1), ('2017-07-22', 0.03), ('2017-07-22', 0.07), ('2017-07-22', 0.12), ('2017-07-22', 0.0), ('2017-07-22', 0.2), ('2017-07-22', 4.0), ('2017-07-23', 0.0), ('2017-07-23', 0.06), ('2017-07-23', 0.07), ('2017-07-23', 0.2), ('2017-07-23', 0.8), ('2017-07-24', 0.05), ('2017-07-24', 0.58), ('2017-07-24', 1.19), ('2017-07-24', None), ('2017-07-24', 0.61), ('2017-07-24', 0.84), ('2017-07-25', 0.0), ('2017-07-25', 0.03), ('2017-07-25', 0.12), ('2017-07-25', 0.0), ('2017-07-25', 0.05), ('2017-07-25', 0.11), ('2017-07-25', 0.3), ('2017-07-26', 0.0), ('2017-07-26', 0.06), ('2017-07-26', 0.02), ('2017-07-26', None), ('2017-07-26', 0.0), ('2017-07-26', 0.12), ('2017-07-26', 0.3), ('2017-07-27', 0.0), ('2017-07-27', 0.0), ('2017-07-27', 0.0), ('2017-07-27', None), ('2017-07-27', 0.0), ('2017-07-27', 0.01), ('2017-07-27', 0.0), ('2017-07-28', 0.0), ('2017-07-28', 0.13), ('2017-07-28', 0.14), ('2017-07-28', 0.01), ('2017-07-28', 0.0), ('2017-07-28', 0.09), ('2017-07-28', 0.4), ('2017-07-29', 0.0), ('2017-07-29', 0.06), ('2017-07-29', 0.02), ('2017-07-29', 0.0), ('2017-07-29', 0.23), ('2017-07-29', 0.3), ('2017-07-30', 0.0), ('2017-07-30', 0.0), ('2017-07-30', 0.0), ('2017-07-30', 0.0), ('2017-07-30', 0.3), ('2017-07-31', 0.0), ('2017-07-31', 0.0), ('2017-07-31', None), ('2017-07-31', None), ('2017-07-31', 0.0), ('2017-07-31', 0.0), ('2017-07-31', 0.0), ('2017-08-01', 0.02), ('2017-08-01', 0.12), ('2017-08-01', 0.0), ('2017-08-01', None), ('2017-08-02', 0.0), ('2017-08-02', 0.05), ('2017-08-02', 0.0), ('2017-08-02', 0.25), ('2017-08-03', 0.0), ('2017-08-03', 0.01), ('2017-08-03', 0.0), ('2017-08-03', 0.06), ('2017-08-04', 0.02), ('2017-08-04', 0.04), ('2017-08-04', 0.0), ('2017-08-04', 0.0), ('2017-08-05', 0.0), ('2017-08-05', 0.06), ('2017-08-05', None), ('2017-08-06', 0.0), ('2017-08-06', 0.0), ('2017-08-06', 0.0), ('2017-08-06', 0.0), ('2017-08-06', None), ('2017-08-07', 0.0), ('2017-08-07', 0.0), ('2017-08-07', 0.0), ('2017-08-07', 0.05), ('2017-08-08', 0.0), ('2017-08-08', 0.1), ('2017-08-08', 0.0), ('2017-08-08', 0.34), ('2017-08-09', 0.0), ('2017-08-09', 0.0), ('2017-08-09', 0.15), ('2017-08-10', 0.0), ('2017-08-10', 0.0), ('2017-08-10', 0.0), ('2017-08-10', 0.07), ('2017-08-11', 0.0), ('2017-08-11', 0.0), ('2017-08-11', 0.0), ('2017-08-11', None), ('2017-08-12', 0.0), ('2017-08-12', 0.0), ('2017-08-12', 0.14), ('2017-08-13', 0.0), ('2017-08-13', None), ('2017-08-13', 0.0), ('2017-08-13', 0.0), ('2017-08-13', None), ('2017-08-14', 0.0), ('2017-08-14', 0.01), ('2017-08-14', 0.08), ('2017-08-14', 0.0), ('2017-08-14', 0.22), ('2017-08-15', 0.02), ('2017-08-15', 0.0), ('2017-08-15', 0.06), ('2017-08-15', 0.32), ('2017-08-15', 0.42), ('2017-08-16', 0.0), ('2017-08-16', 0.07), ('2017-08-16', 0.12), ('2017-08-16', 0.42), ('2017-08-17', 0.0), ('2017-08-17', 0.05), ('2017-08-17', 0.01), ('2017-08-17', 0.13), ('2017-08-18', 0.0), ('2017-08-18', 0.0), ('2017-08-18', 0.06), ('2017-08-18', None), ('2017-08-19', 0.0), ('2017-08-19', 0.0), ('2017-08-19', None), ('2017-08-19', 0.09), ('2017-08-20', 0.0), ('2017-08-20', 0.01), ('2017-08-20', None), ('2017-08-21', 0.0), ('2017-08-21', 0.02), ('2017-08-21', None), ('2017-08-21', 0.56), ('2017-08-22', 0.0), ('2017-08-22', 0.0), ('2017-08-22', 0.5), ('2017-08-23', 0.0), ('2017-08-23', 0.0), ('2017-08-23', 0.08), ('2017-08-23', 0.45)]\n"
     ]
    },
    {
     "data": {
      "application/javascript": [
       "\n",
       "            setTimeout(function() {\n",
       "                var nbb_cell_id = 17;\n",
       "                var nbb_unformatted_code = \"# Perform a query to retrieve the data and precipitation scores\\nprec_scores = (\\n    session.query(Measurement.date, Measurement.prcp)\\n    .filter(Measurement.date >= date_year_ago)\\n    .order_by(Measurement.date)\\n    .all()\\n)\\nprint(prec_scores)\";\n",
       "                var nbb_formatted_code = \"# Perform a query to retrieve the data and precipitation scores\\nprec_scores = (\\n    session.query(Measurement.date, Measurement.prcp)\\n    .filter(Measurement.date >= date_year_ago)\\n    .order_by(Measurement.date)\\n    .all()\\n)\\nprint(prec_scores)\";\n",
       "                var nbb_cells = Jupyter.notebook.get_cells();\n",
       "                for (var i = 0; i < nbb_cells.length; ++i) {\n",
       "                    if (nbb_cells[i].input_prompt_number == nbb_cell_id) {\n",
       "                        if (nbb_cells[i].get_text() == nbb_unformatted_code) {\n",
       "                             nbb_cells[i].set_text(nbb_formatted_code);\n",
       "                        }\n",
       "                        break;\n",
       "                    }\n",
       "                }\n",
       "            }, 500);\n",
       "            "
      ],
      "text/plain": [
       "<IPython.core.display.Javascript object>"
      ]
     },
     "metadata": {},
     "output_type": "display_data"
    }
   ],
   "source": [
    "# Perform a query to retrieve the data and precipitation scores\n",
    "prec_scores = (\n",
    "    session.query(Measurement.date, Measurement.prcp)\n",
    "    .filter(Measurement.date >= date_year_ago)\n",
    "    .order_by(Measurement.date)\n",
    "    .all()\n",
    ")\n",
    "print(prec_scores)"
   ]
  },
  {
   "cell_type": "code",
   "execution_count": 18,
   "metadata": {
    "scrolled": true
   },
   "outputs": [
    {
     "data": {
      "text/html": [
       "<div>\n",
       "<style scoped>\n",
       "    .dataframe tbody tr th:only-of-type {\n",
       "        vertical-align: middle;\n",
       "    }\n",
       "\n",
       "    .dataframe tbody tr th {\n",
       "        vertical-align: top;\n",
       "    }\n",
       "\n",
       "    .dataframe thead th {\n",
       "        text-align: right;\n",
       "    }\n",
       "</style>\n",
       "<table border=\"1\" class=\"dataframe\">\n",
       "  <thead>\n",
       "    <tr style=\"text-align: right;\">\n",
       "      <th></th>\n",
       "      <th>Prcp</th>\n",
       "    </tr>\n",
       "    <tr>\n",
       "      <th>Date</th>\n",
       "      <th></th>\n",
       "    </tr>\n",
       "  </thead>\n",
       "  <tbody>\n",
       "    <tr>\n",
       "      <th>2016-08-23</th>\n",
       "      <td>0.00</td>\n",
       "    </tr>\n",
       "    <tr>\n",
       "      <th>2016-08-23</th>\n",
       "      <td>0.15</td>\n",
       "    </tr>\n",
       "    <tr>\n",
       "      <th>2016-08-23</th>\n",
       "      <td>0.05</td>\n",
       "    </tr>\n",
       "    <tr>\n",
       "      <th>2016-08-23</th>\n",
       "      <td>NaN</td>\n",
       "    </tr>\n",
       "    <tr>\n",
       "      <th>2016-08-23</th>\n",
       "      <td>0.02</td>\n",
       "    </tr>\n",
       "  </tbody>\n",
       "</table>\n",
       "</div>"
      ],
      "text/plain": [
       "            Prcp\n",
       "Date            \n",
       "2016-08-23  0.00\n",
       "2016-08-23  0.15\n",
       "2016-08-23  0.05\n",
       "2016-08-23   NaN\n",
       "2016-08-23  0.02"
      ]
     },
     "execution_count": 18,
     "metadata": {},
     "output_type": "execute_result"
    },
    {
     "data": {
      "application/javascript": [
       "\n",
       "            setTimeout(function() {\n",
       "                var nbb_cell_id = 18;\n",
       "                var nbb_unformatted_code = \"# Save the query results as a Pandas DataFrame and set the index to the date column\\nprec_scores_df = pd.DataFrame(prec_scores, columns=[\\\"Date\\\", \\\"Prcp\\\"]).set_index(\\\"Date\\\")\\nprec_scores_df.head()\";\n",
       "                var nbb_formatted_code = \"# Save the query results as a Pandas DataFrame and set the index to the date column\\nprec_scores_df = pd.DataFrame(prec_scores, columns=[\\\"Date\\\", \\\"Prcp\\\"]).set_index(\\\"Date\\\")\\nprec_scores_df.head()\";\n",
       "                var nbb_cells = Jupyter.notebook.get_cells();\n",
       "                for (var i = 0; i < nbb_cells.length; ++i) {\n",
       "                    if (nbb_cells[i].input_prompt_number == nbb_cell_id) {\n",
       "                        if (nbb_cells[i].get_text() == nbb_unformatted_code) {\n",
       "                             nbb_cells[i].set_text(nbb_formatted_code);\n",
       "                        }\n",
       "                        break;\n",
       "                    }\n",
       "                }\n",
       "            }, 500);\n",
       "            "
      ],
      "text/plain": [
       "<IPython.core.display.Javascript object>"
      ]
     },
     "metadata": {},
     "output_type": "display_data"
    }
   ],
   "source": [
    "# Save the query results as a Pandas DataFrame and set the index to the date column\n",
    "prec_scores_df = pd.DataFrame(prec_scores, columns=[\"Date\", \"Prcp\"]).set_index(\"Date\")\n",
    "prec_scores_df.head()"
   ]
  },
  {
   "cell_type": "code",
   "execution_count": 19,
   "metadata": {},
   "outputs": [
    {
     "data": {
      "text/html": [
       "<div>\n",
       "<style scoped>\n",
       "    .dataframe tbody tr th:only-of-type {\n",
       "        vertical-align: middle;\n",
       "    }\n",
       "\n",
       "    .dataframe tbody tr th {\n",
       "        vertical-align: top;\n",
       "    }\n",
       "\n",
       "    .dataframe thead th {\n",
       "        text-align: right;\n",
       "    }\n",
       "</style>\n",
       "<table border=\"1\" class=\"dataframe\">\n",
       "  <thead>\n",
       "    <tr style=\"text-align: right;\">\n",
       "      <th></th>\n",
       "      <th>Prcp</th>\n",
       "    </tr>\n",
       "    <tr>\n",
       "      <th>Date</th>\n",
       "      <th></th>\n",
       "    </tr>\n",
       "  </thead>\n",
       "  <tbody>\n",
       "    <tr>\n",
       "      <th>2016-08-23</th>\n",
       "      <td>0.00</td>\n",
       "    </tr>\n",
       "    <tr>\n",
       "      <th>2016-08-23</th>\n",
       "      <td>0.15</td>\n",
       "    </tr>\n",
       "    <tr>\n",
       "      <th>2016-08-23</th>\n",
       "      <td>0.05</td>\n",
       "    </tr>\n",
       "    <tr>\n",
       "      <th>2016-08-23</th>\n",
       "      <td>NaN</td>\n",
       "    </tr>\n",
       "    <tr>\n",
       "      <th>2016-08-23</th>\n",
       "      <td>0.02</td>\n",
       "    </tr>\n",
       "    <tr>\n",
       "      <th>...</th>\n",
       "      <td>...</td>\n",
       "    </tr>\n",
       "    <tr>\n",
       "      <th>2017-08-22</th>\n",
       "      <td>0.50</td>\n",
       "    </tr>\n",
       "    <tr>\n",
       "      <th>2017-08-23</th>\n",
       "      <td>0.00</td>\n",
       "    </tr>\n",
       "    <tr>\n",
       "      <th>2017-08-23</th>\n",
       "      <td>0.00</td>\n",
       "    </tr>\n",
       "    <tr>\n",
       "      <th>2017-08-23</th>\n",
       "      <td>0.08</td>\n",
       "    </tr>\n",
       "    <tr>\n",
       "      <th>2017-08-23</th>\n",
       "      <td>0.45</td>\n",
       "    </tr>\n",
       "  </tbody>\n",
       "</table>\n",
       "<p>2230 rows × 1 columns</p>\n",
       "</div>"
      ],
      "text/plain": [
       "            Prcp\n",
       "Date            \n",
       "2016-08-23  0.00\n",
       "2016-08-23  0.15\n",
       "2016-08-23  0.05\n",
       "2016-08-23   NaN\n",
       "2016-08-23  0.02\n",
       "...          ...\n",
       "2017-08-22  0.50\n",
       "2017-08-23  0.00\n",
       "2017-08-23  0.00\n",
       "2017-08-23  0.08\n",
       "2017-08-23  0.45\n",
       "\n",
       "[2230 rows x 1 columns]"
      ]
     },
     "execution_count": 19,
     "metadata": {},
     "output_type": "execute_result"
    },
    {
     "data": {
      "application/javascript": [
       "\n",
       "            setTimeout(function() {\n",
       "                var nbb_cell_id = 19;\n",
       "                var nbb_unformatted_code = \"# Sort the dataframe by date\\nprec_scores_df.sort_index()\\nprec_scores_df\";\n",
       "                var nbb_formatted_code = \"# Sort the dataframe by date\\nprec_scores_df.sort_index()\\nprec_scores_df\";\n",
       "                var nbb_cells = Jupyter.notebook.get_cells();\n",
       "                for (var i = 0; i < nbb_cells.length; ++i) {\n",
       "                    if (nbb_cells[i].input_prompt_number == nbb_cell_id) {\n",
       "                        if (nbb_cells[i].get_text() == nbb_unformatted_code) {\n",
       "                             nbb_cells[i].set_text(nbb_formatted_code);\n",
       "                        }\n",
       "                        break;\n",
       "                    }\n",
       "                }\n",
       "            }, 500);\n",
       "            "
      ],
      "text/plain": [
       "<IPython.core.display.Javascript object>"
      ]
     },
     "metadata": {},
     "output_type": "display_data"
    }
   ],
   "source": [
    "# Sort the dataframe by date\n",
    "prec_scores_df.sort_index()\n",
    "prec_scores_df"
   ]
  },
  {
   "cell_type": "code",
   "execution_count": 20,
   "metadata": {},
   "outputs": [
    {
     "data": {
      "image/png": "[encoded data removed]",
      "text/plain": [
       "<Figure size 720x576 with 1 Axes>"
      ]
     },
     "metadata": {},
     "output_type": "display_data"
    },
    {
     "data": {
      "application/javascript": [
       "\n",
       "            setTimeout(function() {\n",
       "                var nbb_cell_id = 20;\n",
       "                var nbb_unformatted_code = \"#Plot the results using the DataFrame plot method.\\nprec_scores_df.plot(figsize=(10,8),rot =45)\\nplt.title(\\\"precipitation Analysis\\\")\\nplt.xlabel(\\\"Date\\\")\\nplt.ylabel(\\\"Percipitation Volume (Inches)\\\")\\nplt.grid(True)\\n\\nplt.savefig(\\\"output_images/precipitation Analysis.png\\\")\\nplt.show()\";\n",
       "                var nbb_formatted_code = \"# Plot the results using the DataFrame plot method.\\nprec_scores_df.plot(figsize=(10, 8), rot=45)\\nplt.title(\\\"precipitation Analysis\\\")\\nplt.xlabel(\\\"Date\\\")\\nplt.ylabel(\\\"Percipitation Volume (Inches)\\\")\\nplt.grid(True)\\n\\nplt.savefig(\\\"output_images/precipitation Analysis.png\\\")\\nplt.show()\";\n",
       "                var nbb_cells = Jupyter.notebook.get_cells();\n",
       "                for (var i = 0; i < nbb_cells.length; ++i) {\n",
       "                    if (nbb_cells[i].input_prompt_number == nbb_cell_id) {\n",
       "                        if (nbb_cells[i].get_text() == nbb_unformatted_code) {\n",
       "                             nbb_cells[i].set_text(nbb_formatted_code);\n",
       "                        }\n",
       "                        break;\n",
       "                    }\n",
       "                }\n",
       "            }, 500);\n",
       "            "
      ],
      "text/plain": [
       "<IPython.core.display.Javascript object>"
      ]
     },
     "metadata": {},
     "output_type": "display_data"
    }
   ],
   "source": [
    "#Plot the results using the DataFrame plot method.\n",
    "prec_scores_df.plot(figsize=(10,8),rot =45)\n",
    "plt.title(\"precipitation Analysis\")\n",
    "plt.xlabel(\"Date\")\n",
    "plt.ylabel(\"Percipitation Volume (Inches)\")\n",
    "plt.grid(True)\n",
    "\n",
    "plt.savefig(\"output_images/precipitation Analysis.png\")\n",
    "plt.show()\n"
   ]
  },
  {
   "cell_type": "code",
   "execution_count": 21,
   "metadata": {},
   "outputs": [
    {
     "data": {
      "text/html": [
       "<div>\n",
       "<style scoped>\n",
       "    .dataframe tbody tr th:only-of-type {\n",
       "        vertical-align: middle;\n",
       "    }\n",
       "\n",
       "    .dataframe tbody tr th {\n",
       "        vertical-align: top;\n",
       "    }\n",
       "\n",
       "    .dataframe thead th {\n",
       "        text-align: right;\n",
       "    }\n",
       "</style>\n",
       "<table border=\"1\" class=\"dataframe\">\n",
       "  <thead>\n",
       "    <tr style=\"text-align: right;\">\n",
       "      <th></th>\n",
       "      <th>Prcp</th>\n",
       "    </tr>\n",
       "  </thead>\n",
       "  <tbody>\n",
       "    <tr>\n",
       "      <th>count</th>\n",
       "      <td>2021.000000</td>\n",
       "    </tr>\n",
       "    <tr>\n",
       "      <th>mean</th>\n",
       "      <td>0.177279</td>\n",
       "    </tr>\n",
       "    <tr>\n",
       "      <th>std</th>\n",
       "      <td>0.461190</td>\n",
       "    </tr>\n",
       "    <tr>\n",
       "      <th>min</th>\n",
       "      <td>0.000000</td>\n",
       "    </tr>\n",
       "    <tr>\n",
       "      <th>25%</th>\n",
       "      <td>0.000000</td>\n",
       "    </tr>\n",
       "    <tr>\n",
       "      <th>50%</th>\n",
       "      <td>0.020000</td>\n",
       "    </tr>\n",
       "    <tr>\n",
       "      <th>75%</th>\n",
       "      <td>0.130000</td>\n",
       "    </tr>\n",
       "    <tr>\n",
       "      <th>max</th>\n",
       "      <td>6.700000</td>\n",
       "    </tr>\n",
       "  </tbody>\n",
       "</table>\n",
       "</div>"
      ],
      "text/plain": [
       "              Prcp\n",
       "count  2021.000000\n",
       "mean      0.177279\n",
       "std       0.461190\n",
       "min       0.000000\n",
       "25%       0.000000\n",
       "50%       0.020000\n",
       "75%       0.130000\n",
       "max       6.700000"
      ]
     },
     "execution_count": 21,
     "metadata": {},
     "output_type": "execute_result"
    },
    {
     "data": {
      "application/javascript": [
       "\n",
       "            setTimeout(function() {\n",
       "                var nbb_cell_id = 21;\n",
       "                var nbb_unformatted_code = \"# Use Pandas to calcualte the summary statistics for the precipitation data\\nprec_scores_df.describe()\";\n",
       "                var nbb_formatted_code = \"# Use Pandas to calcualte the summary statistics for the precipitation data\\nprec_scores_df.describe()\";\n",
       "                var nbb_cells = Jupyter.notebook.get_cells();\n",
       "                for (var i = 0; i < nbb_cells.length; ++i) {\n",
       "                    if (nbb_cells[i].input_prompt_number == nbb_cell_id) {\n",
       "                        if (nbb_cells[i].get_text() == nbb_unformatted_code) {\n",
       "                             nbb_cells[i].set_text(nbb_formatted_code);\n",
       "                        }\n",
       "                        break;\n",
       "                    }\n",
       "                }\n",
       "            }, 500);\n",
       "            "
      ],
      "text/plain": [
       "<IPython.core.display.Javascript object>"
      ]
     },
     "metadata": {},
     "output_type": "display_data"
    }
   ],
   "source": [
    "# Use Pandas to calcualte the summary statistics for the precipitation data\n",
    "prec_scores_df.describe()"
   ]
  },
  {
   "cell_type": "markdown",
   "metadata": {},
   "source": [
    "# Station Analysis\n",
    "\n",
    "* Design a query to calculate the total number of stations.\n",
    "\n",
    "* Design a query to find the most active stations.\n",
    "\n",
    "    List the stations and observation counts in descending order.\n",
    "\n",
    "    Which station has the highest number of observations?\n",
    "\n",
    "    Hint: You may need to use functions such as func.min, func.max, func.avg, and func.count in your queries.\n",
    "\n",
    "* Design a query to retrieve the last 12 months of temperature observation data (tobs).\n",
    "\n",
    "   Filter by the station with the highest number of observations.\n",
    "\n",
    "   Plot the results as a histogram with bins=12."
   ]
  },
  {
   "cell_type": "code",
   "execution_count": 22,
   "metadata": {},
   "outputs": [
    {
     "data": {
      "text/plain": [
       "[(9)]"
      ]
     },
     "execution_count": 22,
     "metadata": {},
     "output_type": "execute_result"
    },
    {
     "data": {
      "application/javascript": [
       "\n",
       "            setTimeout(function() {\n",
       "                var nbb_cell_id = 22;\n",
       "                var nbb_unformatted_code = \"# Design a query to show how many stations are available in this dataset?\\n# station_count = session.query(Measurement).group_by(Measurement.station).count()\\nstation_count = session.query(func.count(Station.station)).all()\\nstation_count\";\n",
       "                var nbb_formatted_code = \"# Design a query to show how many stations are available in this dataset?\\n# station_count = session.query(Measurement).group_by(Measurement.station).count()\\nstation_count = session.query(func.count(Station.station)).all()\\nstation_count\";\n",
       "                var nbb_cells = Jupyter.notebook.get_cells();\n",
       "                for (var i = 0; i < nbb_cells.length; ++i) {\n",
       "                    if (nbb_cells[i].input_prompt_number == nbb_cell_id) {\n",
       "                        if (nbb_cells[i].get_text() == nbb_unformatted_code) {\n",
       "                             nbb_cells[i].set_text(nbb_formatted_code);\n",
       "                        }\n",
       "                        break;\n",
       "                    }\n",
       "                }\n",
       "            }, 500);\n",
       "            "
      ],
      "text/plain": [
       "<IPython.core.display.Javascript object>"
      ]
     },
     "metadata": {},
     "output_type": "display_data"
    }
   ],
   "source": [
    "# Design a query to show how many stations are available in this dataset?\n",
    "# station_count = session.query(Measurement).group_by(Measurement.station).count()\n",
    "station_count = session.query(func.count(Station.station)).all()\n",
    "station_count"
   ]
  },
  {
   "cell_type": "code",
   "execution_count": 23,
   "metadata": {
    "scrolled": false
   },
   "outputs": [
    {
     "data": {
      "text/plain": [
       "[('USC00519281', 2772),\n",
       " ('USC00519397', 2724),\n",
       " ('USC00513117', 2709),\n",
       " ('USC00519523', 2669),\n",
       " ('USC00516128', 2612),\n",
       " ('USC00514830', 2202),\n",
       " ('USC00511918', 1979),\n",
       " ('USC00517948', 1372),\n",
       " ('USC00518838', 511)]"
      ]
     },
     "execution_count": 23,
     "metadata": {},
     "output_type": "execute_result"
    },
    {
     "data": {
      "application/javascript": [
       "\n",
       "            setTimeout(function() {\n",
       "                var nbb_cell_id = 23;\n",
       "                var nbb_unformatted_code = \"# What are the most active stations? (i.e. what stations have the most rows)?\\n# List the stations and the counts in descending order.\\nactive_stations = (\\n    session.query(Measurement.station, func.count(Measurement.station))\\n    .group_by(Measurement.station)\\n    .order_by(func.count(Measurement.station).desc())\\n    .all()\\n)\\nactive_stations\";\n",
       "                var nbb_formatted_code = \"# What are the most active stations? (i.e. what stations have the most rows)?\\n# List the stations and the counts in descending order.\\nactive_stations = (\\n    session.query(Measurement.station, func.count(Measurement.station))\\n    .group_by(Measurement.station)\\n    .order_by(func.count(Measurement.station).desc())\\n    .all()\\n)\\nactive_stations\";\n",
       "                var nbb_cells = Jupyter.notebook.get_cells();\n",
       "                for (var i = 0; i < nbb_cells.length; ++i) {\n",
       "                    if (nbb_cells[i].input_prompt_number == nbb_cell_id) {\n",
       "                        if (nbb_cells[i].get_text() == nbb_unformatted_code) {\n",
       "                             nbb_cells[i].set_text(nbb_formatted_code);\n",
       "                        }\n",
       "                        break;\n",
       "                    }\n",
       "                }\n",
       "            }, 500);\n",
       "            "
      ],
      "text/plain": [
       "<IPython.core.display.Javascript object>"
      ]
     },
     "metadata": {},
     "output_type": "display_data"
    }
   ],
   "source": [
    "# What are the most active stations? (i.e. what stations have the most rows)?\n",
    "# List the stations and the counts in descending order.\n",
    "active_stations = (\n",
    "    session.query(Measurement.station, func.count(Measurement.station))\n",
    "    .group_by(Measurement.station)\n",
    "    .order_by(func.count(Measurement.station).desc())\n",
    "    .all()\n",
    ")\n",
    "active_stations"
   ]
  },
  {
   "cell_type": "code",
   "execution_count": 24,
   "metadata": {},
   "outputs": [
    {
     "data": {
      "text/plain": [
       "'USC00519281'"
      ]
     },
     "execution_count": 24,
     "metadata": {},
     "output_type": "execute_result"
    },
    {
     "data": {
      "application/javascript": [
       "\n",
       "            setTimeout(function() {\n",
       "                var nbb_cell_id = 24;\n",
       "                var nbb_unformatted_code = \"most_active_station = active_stations[0][0]\\nmost_active_station\";\n",
       "                var nbb_formatted_code = \"most_active_station = active_stations[0][0]\\nmost_active_station\";\n",
       "                var nbb_cells = Jupyter.notebook.get_cells();\n",
       "                for (var i = 0; i < nbb_cells.length; ++i) {\n",
       "                    if (nbb_cells[i].input_prompt_number == nbb_cell_id) {\n",
       "                        if (nbb_cells[i].get_text() == nbb_unformatted_code) {\n",
       "                             nbb_cells[i].set_text(nbb_formatted_code);\n",
       "                        }\n",
       "                        break;\n",
       "                    }\n",
       "                }\n",
       "            }, 500);\n",
       "            "
      ],
      "text/plain": [
       "<IPython.core.display.Javascript object>"
      ]
     },
     "metadata": {},
     "output_type": "display_data"
    }
   ],
   "source": [
    "most_active_station = active_stations[0][0]\n",
    "most_active_station"
   ]
  },
  {
   "cell_type": "code",
   "execution_count": 25,
   "metadata": {},
   "outputs": [
    {
     "data": {
      "text/plain": [
       "[(54.0, 85.0, 71.66378066378067)]"
      ]
     },
     "execution_count": 25,
     "metadata": {},
     "output_type": "execute_result"
    },
    {
     "data": {
      "application/javascript": [
       "\n",
       "            setTimeout(function() {\n",
       "                var nbb_cell_id = 25;\n",
       "                var nbb_unformatted_code = \"# Using the station id from the previous query, calculate the lowest temperature recorded,\\n# highest temperature recorded, and average temperature most active station?\\ntemp_obs = (\\n    session.query(\\n        func.min(Measurement.tobs),\\n        func.max(Measurement.tobs),\\n        func.avg(Measurement.tobs),\\n    )\\n    .filter(Measurement.station == most_active_station)\\n    .group_by(Measurement.station)\\n    .order_by(func.count(Measurement.station).desc())\\n    .all()\\n)\\ntemp_obs\";\n",
       "                var nbb_formatted_code = \"# Using the station id from the previous query, calculate the lowest temperature recorded,\\n# highest temperature recorded, and average temperature most active station?\\ntemp_obs = (\\n    session.query(\\n        func.min(Measurement.tobs),\\n        func.max(Measurement.tobs),\\n        func.avg(Measurement.tobs),\\n    )\\n    .filter(Measurement.station == most_active_station)\\n    .group_by(Measurement.station)\\n    .order_by(func.count(Measurement.station).desc())\\n    .all()\\n)\\ntemp_obs\";\n",
       "                var nbb_cells = Jupyter.notebook.get_cells();\n",
       "                for (var i = 0; i < nbb_cells.length; ++i) {\n",
       "                    if (nbb_cells[i].input_prompt_number == nbb_cell_id) {\n",
       "                        if (nbb_cells[i].get_text() == nbb_unformatted_code) {\n",
       "                             nbb_cells[i].set_text(nbb_formatted_code);\n",
       "                        }\n",
       "                        break;\n",
       "                    }\n",
       "                }\n",
       "            }, 500);\n",
       "            "
      ],
      "text/plain": [
       "<IPython.core.display.Javascript object>"
      ]
     },
     "metadata": {},
     "output_type": "display_data"
    }
   ],
   "source": [
    "# Using the station id from the previous query, calculate the lowest temperature recorded,\n",
    "# highest temperature recorded, and average temperature most active station?\n",
    "temp_obs = (\n",
    "    session.query(\n",
    "        func.min(Measurement.tobs),\n",
    "        func.max(Measurement.tobs),\n",
    "        func.avg(Measurement.tobs),\n",
    "    )\n",
    "    .filter(Measurement.station == most_active_station)\n",
    "    .group_by(Measurement.station)\n",
    "    .order_by(func.count(Measurement.station).desc())\n",
    "    .all()\n",
    ")\n",
    "temp_obs"
   ]
  },
  {
   "cell_type": "code",
   "execution_count": 26,
   "metadata": {},
   "outputs": [
    {
     "data": {
      "text/plain": [
       "'USC00519281'"
      ]
     },
     "execution_count": 26,
     "metadata": {},
     "output_type": "execute_result"
    },
    {
     "data": {
      "application/javascript": [
       "\n",
       "            setTimeout(function() {\n",
       "                var nbb_cell_id = 26;\n",
       "                var nbb_unformatted_code = \"# Choose the station with the highest number of temperature observations.\\nhighest_temp = (\\n    session.query((Measurement.station), func.count(Measurement.tobs))\\n    .group_by(Measurement.station)\\n    .order_by(func.count(Measurement.tobs).desc())\\n    .all()\\n)\\nhighest_temp\\nhighest_obs = highest_temp[0][0]\\nhighest_obs\";\n",
       "                var nbb_formatted_code = \"# Choose the station with the highest number of temperature observations.\\nhighest_temp = (\\n    session.query((Measurement.station), func.count(Measurement.tobs))\\n    .group_by(Measurement.station)\\n    .order_by(func.count(Measurement.tobs).desc())\\n    .all()\\n)\\nhighest_temp\\nhighest_obs = highest_temp[0][0]\\nhighest_obs\";\n",
       "                var nbb_cells = Jupyter.notebook.get_cells();\n",
       "                for (var i = 0; i < nbb_cells.length; ++i) {\n",
       "                    if (nbb_cells[i].input_prompt_number == nbb_cell_id) {\n",
       "                        if (nbb_cells[i].get_text() == nbb_unformatted_code) {\n",
       "                             nbb_cells[i].set_text(nbb_formatted_code);\n",
       "                        }\n",
       "                        break;\n",
       "                    }\n",
       "                }\n",
       "            }, 500);\n",
       "            "
      ],
      "text/plain": [
       "<IPython.core.display.Javascript object>"
      ]
     },
     "metadata": {},
     "output_type": "display_data"
    }
   ],
   "source": [
    "# Choose the station with the highest number of temperature observations.\n",
    "highest_temp = (\n",
    "    session.query((Measurement.station), func.count(Measurement.tobs))\n",
    "    .group_by(Measurement.station)\n",
    "    .order_by(func.count(Measurement.tobs).desc())\n",
    "    .all()\n",
    ")\n",
    "highest_temp\n",
    "highest_obs = highest_temp[0][0]\n",
    "highest_obs"
   ]
  },
  {
   "cell_type": "code",
   "execution_count": 27,
   "metadata": {},
   "outputs": [
    {
     "data": {
      "text/plain": [
       "[(77.0),\n",
       " (77.0),\n",
       " (80.0),\n",
       " (80.0),\n",
       " (75.0),\n",
       " (73.0),\n",
       " (78.0),\n",
       " (77.0),\n",
       " (78.0),\n",
       " (80.0),\n",
       " (80.0),\n",
       " (78.0),\n",
       " (78.0),\n",
       " (78.0),\n",
       " (73.0),\n",
       " (74.0),\n",
       " (80.0),\n",
       " (79.0),\n",
       " (77.0),\n",
       " (80.0),\n",
       " (76.0),\n",
       " (79.0),\n",
       " (75.0),\n",
       " (79.0),\n",
       " (78.0),\n",
       " (79.0),\n",
       " (78.0),\n",
       " (78.0),\n",
       " (76.0),\n",
       " (74.0),\n",
       " (77.0),\n",
       " (78.0),\n",
       " (79.0),\n",
       " (79.0),\n",
       " (77.0),\n",
       " (80.0),\n",
       " (78.0),\n",
       " (78.0),\n",
       " (78.0),\n",
       " (77.0),\n",
       " (79.0),\n",
       " (79.0),\n",
       " (79.0),\n",
       " (79.0),\n",
       " (75.0),\n",
       " (76.0),\n",
       " (73.0),\n",
       " (72.0),\n",
       " (71.0),\n",
       " (77.0),\n",
       " (79.0),\n",
       " (78.0),\n",
       " (79.0),\n",
       " (77.0),\n",
       " (79.0),\n",
       " (77.0),\n",
       " (78.0),\n",
       " (78.0),\n",
       " (78.0),\n",
       " (78.0),\n",
       " (77.0),\n",
       " (74.0),\n",
       " (75.0),\n",
       " (76.0),\n",
       " (73.0),\n",
       " (76.0),\n",
       " (74.0),\n",
       " (77.0),\n",
       " (76.0),\n",
       " (76.0),\n",
       " (74.0),\n",
       " (75.0),\n",
       " (75.0),\n",
       " (75.0),\n",
       " (75.0),\n",
       " (71.0),\n",
       " (63.0),\n",
       " (70.0),\n",
       " (68.0),\n",
       " (67.0),\n",
       " (77.0),\n",
       " (74.0),\n",
       " (77.0),\n",
       " (76.0),\n",
       " (76.0),\n",
       " (75.0),\n",
       " (76.0),\n",
       " (75.0),\n",
       " (73.0),\n",
       " (75.0),\n",
       " (73.0),\n",
       " (75.0),\n",
       " (74.0),\n",
       " (75.0),\n",
       " (74.0),\n",
       " (75.0),\n",
       " (73.0),\n",
       " (75.0),\n",
       " (73.0),\n",
       " (73.0),\n",
       " (74.0),\n",
       " (70.0),\n",
       " (72.0),\n",
       " (70.0),\n",
       " (67.0),\n",
       " (67.0),\n",
       " (69.0),\n",
       " (70.0),\n",
       " (68.0),\n",
       " (69.0),\n",
       " (69.0),\n",
       " (66.0),\n",
       " (65.0),\n",
       " (68.0),\n",
       " (62.0),\n",
       " (75.0),\n",
       " (70.0),\n",
       " (69.0),\n",
       " (76.0),\n",
       " (76.0),\n",
       " (74.0),\n",
       " (73.0),\n",
       " (71.0),\n",
       " (74.0),\n",
       " (74.0),\n",
       " (72.0),\n",
       " (71.0),\n",
       " (72.0),\n",
       " (74.0),\n",
       " (69.0),\n",
       " (67.0),\n",
       " (72.0),\n",
       " (70.0),\n",
       " (64.0),\n",
       " (63.0),\n",
       " (63.0),\n",
       " (62.0),\n",
       " (70.0),\n",
       " (70.0),\n",
       " (62.0),\n",
       " (62.0),\n",
       " (63.0),\n",
       " (65.0),\n",
       " (69.0),\n",
       " (77.0),\n",
       " (70.0),\n",
       " (74.0),\n",
       " (69.0),\n",
       " (72.0),\n",
       " (71.0),\n",
       " (69.0),\n",
       " (71.0),\n",
       " (71.0),\n",
       " (72.0),\n",
       " (72.0),\n",
       " (69.0),\n",
       " (70.0),\n",
       " (66.0),\n",
       " (65.0),\n",
       " (69.0),\n",
       " (68.0),\n",
       " (68.0),\n",
       " (68.0),\n",
       " (59.0),\n",
       " (60.0),\n",
       " (70.0),\n",
       " (73.0),\n",
       " (75.0),\n",
       " (64.0),\n",
       " (59.0),\n",
       " (59.0),\n",
       " (62.0),\n",
       " (68.0),\n",
       " (70.0),\n",
       " (73.0),\n",
       " (79.0),\n",
       " (75.0),\n",
       " (65.0),\n",
       " (70.0),\n",
       " (74.0),\n",
       " (70.0),\n",
       " (70.0),\n",
       " (71.0),\n",
       " (71.0),\n",
       " (71.0),\n",
       " (69.0),\n",
       " (61.0),\n",
       " (67.0),\n",
       " (65.0),\n",
       " (72.0),\n",
       " (71.0),\n",
       " (73.0),\n",
       " (72.0),\n",
       " (77.0),\n",
       " (73.0),\n",
       " (67.0),\n",
       " (62.0),\n",
       " (64.0),\n",
       " (67.0),\n",
       " (66.0),\n",
       " (81.0),\n",
       " (69.0),\n",
       " (66.0),\n",
       " (67.0),\n",
       " (69.0),\n",
       " (66.0),\n",
       " (68.0),\n",
       " (65.0),\n",
       " (74.0),\n",
       " (69.0),\n",
       " (72.0),\n",
       " (73.0),\n",
       " (72.0),\n",
       " (71.0),\n",
       " (76.0),\n",
       " (77.0),\n",
       " (76.0),\n",
       " (74.0),\n",
       " (68.0),\n",
       " (73.0),\n",
       " (71.0),\n",
       " (74.0),\n",
       " (75.0),\n",
       " (70.0),\n",
       " (67.0),\n",
       " (71.0),\n",
       " (67.0),\n",
       " (74.0),\n",
       " (77.0),\n",
       " (78.0),\n",
       " (67.0),\n",
       " (70.0),\n",
       " (69.0),\n",
       " (69.0),\n",
       " (74.0),\n",
       " (78.0),\n",
       " (71.0),\n",
       " (67.0),\n",
       " (68.0),\n",
       " (67.0),\n",
       " (76.0),\n",
       " (69.0),\n",
       " (72.0),\n",
       " (76.0),\n",
       " (68.0),\n",
       " (72.0),\n",
       " (74.0),\n",
       " (70.0),\n",
       " (67.0),\n",
       " (72.0),\n",
       " (60.0),\n",
       " (65.0),\n",
       " (75.0),\n",
       " (70.0),\n",
       " (75.0),\n",
       " (70.0),\n",
       " (79.0),\n",
       " (75.0),\n",
       " (70.0),\n",
       " (67.0),\n",
       " (74.0),\n",
       " (70.0),\n",
       " (75.0),\n",
       " (76.0),\n",
       " (77.0),\n",
       " (74.0),\n",
       " (74.0),\n",
       " (74.0),\n",
       " (69.0),\n",
       " (68.0),\n",
       " (76.0),\n",
       " (74.0),\n",
       " (71.0),\n",
       " (71.0),\n",
       " (74.0),\n",
       " (74.0),\n",
       " (74.0),\n",
       " (74.0),\n",
       " (80.0),\n",
       " (74.0),\n",
       " (72.0),\n",
       " (75.0),\n",
       " (80.0),\n",
       " (76.0),\n",
       " (76.0),\n",
       " (77.0),\n",
       " (75.0),\n",
       " (75.0),\n",
       " (75.0),\n",
       " (75.0),\n",
       " (72.0),\n",
       " (74.0),\n",
       " (74.0),\n",
       " (74.0),\n",
       " (76.0),\n",
       " (74.0),\n",
       " (75.0),\n",
       " (73.0),\n",
       " (79.0),\n",
       " (75.0),\n",
       " (72.0),\n",
       " (72.0),\n",
       " (74.0),\n",
       " (72.0),\n",
       " (72.0),\n",
       " (77.0),\n",
       " (71.0),\n",
       " (73.0),\n",
       " (76.0),\n",
       " (77.0),\n",
       " (76.0),\n",
       " (76.0),\n",
       " (79.0),\n",
       " (81.0),\n",
       " (76.0),\n",
       " (78.0),\n",
       " (77.0),\n",
       " (74.0),\n",
       " (75.0),\n",
       " (78.0),\n",
       " (78.0),\n",
       " (69.0),\n",
       " (72.0),\n",
       " (74.0),\n",
       " (74.0),\n",
       " (76.0),\n",
       " (80.0),\n",
       " (80.0),\n",
       " (76.0),\n",
       " (76.0),\n",
       " (76.0),\n",
       " (77.0),\n",
       " (77.0),\n",
       " (77.0),\n",
       " (82.0),\n",
       " (75.0),\n",
       " (77.0),\n",
       " (75.0),\n",
       " (76.0),\n",
       " (81.0),\n",
       " (82.0),\n",
       " (81.0),\n",
       " (76.0),\n",
       " (77.0),\n",
       " (82.0),\n",
       " (83.0),\n",
       " (77.0),\n",
       " (77.0),\n",
       " (77.0),\n",
       " (76.0),\n",
       " (76.0),\n",
       " (79.0)]"
      ]
     },
     "execution_count": 27,
     "metadata": {},
     "output_type": "execute_result"
    },
    {
     "data": {
      "application/javascript": [
       "\n",
       "            setTimeout(function() {\n",
       "                var nbb_cell_id = 27;\n",
       "                var nbb_unformatted_code = \"# Query the last 12 months of temperature observation data for this station and plot the results as a histogram\\nlast_temp_obs = (\\n    session.query(Measurement.tobs)\\n    .filter(Measurement.station == highest_obs)\\n    .filter(Measurement.date >= date_year_ago)\\n    .order_by(Measurement.date)\\n    .all()\\n)\\nlast_temp_obs\";\n",
       "                var nbb_formatted_code = \"# Query the last 12 months of temperature observation data for this station and plot the results as a histogram\\nlast_temp_obs = (\\n    session.query(Measurement.tobs)\\n    .filter(Measurement.station == highest_obs)\\n    .filter(Measurement.date >= date_year_ago)\\n    .order_by(Measurement.date)\\n    .all()\\n)\\nlast_temp_obs\";\n",
       "                var nbb_cells = Jupyter.notebook.get_cells();\n",
       "                for (var i = 0; i < nbb_cells.length; ++i) {\n",
       "                    if (nbb_cells[i].input_prompt_number == nbb_cell_id) {\n",
       "                        if (nbb_cells[i].get_text() == nbb_unformatted_code) {\n",
       "                             nbb_cells[i].set_text(nbb_formatted_code);\n",
       "                        }\n",
       "                        break;\n",
       "                    }\n",
       "                }\n",
       "            }, 500);\n",
       "            "
      ],
      "text/plain": [
       "<IPython.core.display.Javascript object>"
      ]
     },
     "metadata": {},
     "output_type": "display_data"
    }
   ],
   "source": [
    "# Query the last 12 months of temperature observation data for this station and plot the results as a histogram\n",
    "last_temp_obs = (\n",
    "    session.query(Measurement.tobs)\n",
    "    .filter(Measurement.station == highest_obs)\n",
    "    .filter(Measurement.date >= date_year_ago)\n",
    "    .order_by(Measurement.date)\n",
    "    .all()\n",
    ")\n",
    "last_temp_obs"
   ]
  },
  {
   "cell_type": "code",
   "execution_count": 28,
   "metadata": {},
   "outputs": [
    {
     "data": {
      "text/html": [
       "<div>\n",
       "<style scoped>\n",
       "    .dataframe tbody tr th:only-of-type {\n",
       "        vertical-align: middle;\n",
       "    }\n",
       "\n",
       "    .dataframe tbody tr th {\n",
       "        vertical-align: top;\n",
       "    }\n",
       "\n",
       "    .dataframe thead th {\n",
       "        text-align: right;\n",
       "    }\n",
       "</style>\n",
       "<table border=\"1\" class=\"dataframe\">\n",
       "  <thead>\n",
       "    <tr style=\"text-align: right;\">\n",
       "      <th></th>\n",
       "      <th>tobs</th>\n",
       "    </tr>\n",
       "  </thead>\n",
       "  <tbody>\n",
       "    <tr>\n",
       "      <th>0</th>\n",
       "      <td>77.0</td>\n",
       "    </tr>\n",
       "    <tr>\n",
       "      <th>1</th>\n",
       "      <td>77.0</td>\n",
       "    </tr>\n",
       "    <tr>\n",
       "      <th>2</th>\n",
       "      <td>80.0</td>\n",
       "    </tr>\n",
       "    <tr>\n",
       "      <th>3</th>\n",
       "      <td>80.0</td>\n",
       "    </tr>\n",
       "    <tr>\n",
       "      <th>4</th>\n",
       "      <td>75.0</td>\n",
       "    </tr>\n",
       "    <tr>\n",
       "      <th>...</th>\n",
       "      <td>...</td>\n",
       "    </tr>\n",
       "    <tr>\n",
       "      <th>347</th>\n",
       "      <td>77.0</td>\n",
       "    </tr>\n",
       "    <tr>\n",
       "      <th>348</th>\n",
       "      <td>77.0</td>\n",
       "    </tr>\n",
       "    <tr>\n",
       "      <th>349</th>\n",
       "      <td>76.0</td>\n",
       "    </tr>\n",
       "    <tr>\n",
       "      <th>350</th>\n",
       "      <td>76.0</td>\n",
       "    </tr>\n",
       "    <tr>\n",
       "      <th>351</th>\n",
       "      <td>79.0</td>\n",
       "    </tr>\n",
       "  </tbody>\n",
       "</table>\n",
       "<p>352 rows × 1 columns</p>\n",
       "</div>"
      ],
      "text/plain": [
       "     tobs\n",
       "0    77.0\n",
       "1    77.0\n",
       "2    80.0\n",
       "3    80.0\n",
       "4    75.0\n",
       "..    ...\n",
       "347  77.0\n",
       "348  77.0\n",
       "349  76.0\n",
       "350  76.0\n",
       "351  79.0\n",
       "\n",
       "[352 rows x 1 columns]"
      ]
     },
     "execution_count": 28,
     "metadata": {},
     "output_type": "execute_result"
    },
    {
     "data": {
      "application/javascript": [
       "\n",
       "            setTimeout(function() {\n",
       "                var nbb_cell_id = 28;\n",
       "                var nbb_unformatted_code = \"# Plot the results as a histogram with bins=12.\\nhighest_tobs_df = pd.DataFrame(last_temp_obs, columns=[\\\"tobs\\\"])\\nhighest_tobs_df\";\n",
       "                var nbb_formatted_code = \"# Plot the results as a histogram with bins=12.\\nhighest_tobs_df = pd.DataFrame(last_temp_obs, columns=[\\\"tobs\\\"])\\nhighest_tobs_df\";\n",
       "                var nbb_cells = Jupyter.notebook.get_cells();\n",
       "                for (var i = 0; i < nbb_cells.length; ++i) {\n",
       "                    if (nbb_cells[i].input_prompt_number == nbb_cell_id) {\n",
       "                        if (nbb_cells[i].get_text() == nbb_unformatted_code) {\n",
       "                             nbb_cells[i].set_text(nbb_formatted_code);\n",
       "                        }\n",
       "                        break;\n",
       "                    }\n",
       "                }\n",
       "            }, 500);\n",
       "            "
      ],
      "text/plain": [
       "<IPython.core.display.Javascript object>"
      ]
     },
     "metadata": {},
     "output_type": "display_data"
    }
   ],
   "source": [
    "# Plot the results as a histogram with bins=12.\n",
    "highest_tobs_df = pd.DataFrame(last_temp_obs, columns=[\"tobs\"])\n",
    "highest_tobs_df"
   ]
  },
  {
   "cell_type": "code",
   "execution_count": 29,
   "metadata": {},
   "outputs": [
    {
     "data": {
      "image/png": "[encoded data removed]",
      "text/plain": [
       "<Figure size 432x288 with 1 Axes>"
      ]
     },
     "metadata": {},
     "output_type": "display_data"
    },
    {
     "data": {
      "application/javascript": [
       "\n",
       "            setTimeout(function() {\n",
       "                var nbb_cell_id = 29;\n",
       "                var nbb_unformatted_code = \"highest_tobs_df.plot.hist(bins=12)\\nplt.title(\\\"Temperature Observation \\\")\\nplt.tight_layout()\\nplt.savefig(\\\"output_images/TemperaturevsFrequency.png\\\")\\nplt.show()\";\n",
       "                var nbb_formatted_code = \"highest_tobs_df.plot.hist(bins=12)\\nplt.title(\\\"Temperature Observation \\\")\\nplt.tight_layout()\\nplt.savefig(\\\"output_images/TemperaturevsFrequency.png\\\")\\nplt.show()\";\n",
       "                var nbb_cells = Jupyter.notebook.get_cells();\n",
       "                for (var i = 0; i < nbb_cells.length; ++i) {\n",
       "                    if (nbb_cells[i].input_prompt_number == nbb_cell_id) {\n",
       "                        if (nbb_cells[i].get_text() == nbb_unformatted_code) {\n",
       "                             nbb_cells[i].set_text(nbb_formatted_code);\n",
       "                        }\n",
       "                        break;\n",
       "                    }\n",
       "                }\n",
       "            }, 500);\n",
       "            "
      ],
      "text/plain": [
       "<IPython.core.display.Javascript object>"
      ]
     },
     "metadata": {},
     "output_type": "display_data"
    }
   ],
   "source": [
    "highest_tobs_df.plot.hist(bins=12)\n",
    "plt.title(\"Temperature Observation \")\n",
    "plt.tight_layout()\n",
    "plt.savefig(\"output_images/TemperaturevsFrequency.png\")\n",
    "plt.show()"
   ]
  },
  {
   "cell_type": "code",
   "execution_count": 30,
   "metadata": {},
   "outputs": [
    {
     "name": "stdout",
     "output_type": "stream",
     "text": [
      "[(62.0, 69.4375, 74.0)]\n"
     ]
    },
    {
     "data": {
      "application/javascript": [
       "\n",
       "            setTimeout(function() {\n",
       "                var nbb_cell_id = 30;\n",
       "                var nbb_unformatted_code = \"# This function called `calc_temps` will accept start date and end date in the format '%Y-%m-%d'\\n# and return the minimum, average, and maximum temperatures for that range of dates\\ndef calc_temps(start_date, end_date):\\n\\n    # Query database for temperatures between start and end date\\n\\n    start_date = dt.datetime.strptime(start_date, \\\"%Y-%m-%d\\\")\\n    end_date = dt.datetime.strptime(end_date, \\\"%Y-%m-%d\\\")\\n    temp_obs = (\\n        session.query(Measurement.tobs)\\n        .filter(Measurement.date >= start_date)\\n        .filter(Measurement.date <= end_date)\\n        .order_by(Measurement.date)\\n        .all()\\n    )\\n\\n    return (\\n        session.query(\\n            func.min(Measurement.tobs),\\n            func.avg(Measurement.tobs),\\n            func.max(Measurement.tobs),\\n        )\\n        .filter(Measurement.date >= start_date)\\n        .filter(Measurement.date <= end_date)\\n        .all()\\n    )\\n\\n\\n# function usage example\\nprint(calc_temps(\\\"2012-02-28\\\", \\\"2012-03-05\\\"))\";\n",
       "                var nbb_formatted_code = \"# This function called `calc_temps` will accept start date and end date in the format '%Y-%m-%d'\\n# and return the minimum, average, and maximum temperatures for that range of dates\\ndef calc_temps(start_date, end_date):\\n\\n    # Query database for temperatures between start and end date\\n\\n    start_date = dt.datetime.strptime(start_date, \\\"%Y-%m-%d\\\")\\n    end_date = dt.datetime.strptime(end_date, \\\"%Y-%m-%d\\\")\\n    temp_obs = (\\n        session.query(Measurement.tobs)\\n        .filter(Measurement.date >= start_date)\\n        .filter(Measurement.date <= end_date)\\n        .order_by(Measurement.date)\\n        .all()\\n    )\\n\\n    return (\\n        session.query(\\n            func.min(Measurement.tobs),\\n            func.avg(Measurement.tobs),\\n            func.max(Measurement.tobs),\\n        )\\n        .filter(Measurement.date >= start_date)\\n        .filter(Measurement.date <= end_date)\\n        .all()\\n    )\\n\\n\\n# function usage example\\nprint(calc_temps(\\\"2012-02-28\\\", \\\"2012-03-05\\\"))\";\n",
       "                var nbb_cells = Jupyter.notebook.get_cells();\n",
       "                for (var i = 0; i < nbb_cells.length; ++i) {\n",
       "                    if (nbb_cells[i].input_prompt_number == nbb_cell_id) {\n",
       "                        if (nbb_cells[i].get_text() == nbb_unformatted_code) {\n",
       "                             nbb_cells[i].set_text(nbb_formatted_code);\n",
       "                        }\n",
       "                        break;\n",
       "                    }\n",
       "                }\n",
       "            }, 500);\n",
       "            "
      ],
      "text/plain": [
       "<IPython.core.display.Javascript object>"
      ]
     },
     "metadata": {},
     "output_type": "display_data"
    }
   ],
   "source": [
    "# This function called `calc_temps` will accept start date and end date in the format '%Y-%m-%d'\n",
    "# and return the minimum, average, and maximum temperatures for that range of dates\n",
    "def calc_temps(start_date, end_date):\n",
    "\n",
    "    # Query database for temperatures between start and end date\n",
    "\n",
    "    start_date = dt.datetime.strptime(start_date, \"%Y-%m-%d\")\n",
    "    end_date = dt.datetime.strptime(end_date, \"%Y-%m-%d\")\n",
    "    temp_obs = (\n",
    "        session.query(Measurement.tobs)\n",
    "        .filter(Measurement.date >= start_date)\n",
    "        .filter(Measurement.date <= end_date)\n",
    "        .order_by(Measurement.date)\n",
    "        .all()\n",
    "    )\n",
    "\n",
    "    return (\n",
    "        session.query(\n",
    "            func.min(Measurement.tobs),\n",
    "            func.avg(Measurement.tobs),\n",
    "            func.max(Measurement.tobs),\n",
    "        )\n",
    "        .filter(Measurement.date >= start_date)\n",
    "        .filter(Measurement.date <= end_date)\n",
    "        .all()\n",
    "    )\n",
    "\n",
    "\n",
    "# function usage example\n",
    "print(calc_temps(\"2012-02-28\", \"2012-03-05\"))"
   ]
  },
  {
   "cell_type": "code",
   "execution_count": 31,
   "metadata": {},
   "outputs": [
    {
     "data": {
      "text/plain": [
       "[(69.0, 78.28865979381443, 83.0)]"
      ]
     },
     "execution_count": 31,
     "metadata": {},
     "output_type": "execute_result"
    },
    {
     "data": {
      "application/javascript": [
       "\n",
       "            setTimeout(function() {\n",
       "                var nbb_cell_id = 31;\n",
       "                var nbb_unformatted_code = \"# Use your previous function `calc_temps` to calculate the tmin, tavg, and tmax\\n# trip date will be on 2018-7-7 to 2018-7-22\\ntrip_start_date = dt.date(2017, 7, 7)\\ntrip_end_date = dt.date(2017, 7, 22)\\n# for your trip using the previous year's data for those same dates.\\ntrip = calc_temps(\\\"2017-07-07\\\", \\\"2017-07-22\\\")\\ntrip\";\n",
       "                var nbb_formatted_code = \"# Use your previous function `calc_temps` to calculate the tmin, tavg, and tmax\\n# trip date will be on 2018-7-7 to 2018-7-22\\ntrip_start_date = dt.date(2017, 7, 7)\\ntrip_end_date = dt.date(2017, 7, 22)\\n# for your trip using the previous year's data for those same dates.\\ntrip = calc_temps(\\\"2017-07-07\\\", \\\"2017-07-22\\\")\\ntrip\";\n",
       "                var nbb_cells = Jupyter.notebook.get_cells();\n",
       "                for (var i = 0; i < nbb_cells.length; ++i) {\n",
       "                    if (nbb_cells[i].input_prompt_number == nbb_cell_id) {\n",
       "                        if (nbb_cells[i].get_text() == nbb_unformatted_code) {\n",
       "                             nbb_cells[i].set_text(nbb_formatted_code);\n",
       "                        }\n",
       "                        break;\n",
       "                    }\n",
       "                }\n",
       "            }, 500);\n",
       "            "
      ],
      "text/plain": [
       "<IPython.core.display.Javascript object>"
      ]
     },
     "metadata": {},
     "output_type": "display_data"
    }
   ],
   "source": [
    "# Use your previous function `calc_temps` to calculate the tmin, tavg, and tmax\n",
    "# trip date will be on 2018-7-7 to 2018-7-22\n",
    "trip_start_date = dt.date(2017, 7, 7)\n",
    "trip_end_date = dt.date(2017, 7, 22)\n",
    "# for your trip using the previous year's data for those same dates.\n",
    "trip = calc_temps(\"2017-07-07\", \"2017-07-22\")\n",
    "trip"
   ]
  },
  {
   "cell_type": "code",
   "execution_count": 32,
   "metadata": {},
   "outputs": [
    {
     "data": {
      "text/html": [
       "<div>\n",
       "<style scoped>\n",
       "    .dataframe tbody tr th:only-of-type {\n",
       "        vertical-align: middle;\n",
       "    }\n",
       "\n",
       "    .dataframe tbody tr th {\n",
       "        vertical-align: top;\n",
       "    }\n",
       "\n",
       "    .dataframe thead th {\n",
       "        text-align: right;\n",
       "    }\n",
       "</style>\n",
       "<table border=\"1\" class=\"dataframe\">\n",
       "  <thead>\n",
       "    <tr style=\"text-align: right;\">\n",
       "      <th></th>\n",
       "      <th>Tmin</th>\n",
       "      <th>Tavg</th>\n",
       "      <th>Tmax</th>\n",
       "    </tr>\n",
       "  </thead>\n",
       "  <tbody>\n",
       "    <tr>\n",
       "      <th>0</th>\n",
       "      <td>69.0</td>\n",
       "      <td>78.28866</td>\n",
       "      <td>83.0</td>\n",
       "    </tr>\n",
       "  </tbody>\n",
       "</table>\n",
       "</div>"
      ],
      "text/plain": [
       "   Tmin      Tavg  Tmax\n",
       "0  69.0  78.28866  83.0"
      ]
     },
     "execution_count": 32,
     "metadata": {},
     "output_type": "execute_result"
    },
    {
     "data": {
      "application/javascript": [
       "\n",
       "            setTimeout(function() {\n",
       "                var nbb_cell_id = 32;\n",
       "                var nbb_unformatted_code = \"# Create a dataframe with the calculated tmin, tavg, and tmax values\\ntrip_temp_df = pd.DataFrame(trip, columns=['Tmin', 'Tavg', 'Tmax'])\\ntrip_temp_df \";\n",
       "                var nbb_formatted_code = \"# Create a dataframe with the calculated tmin, tavg, and tmax values\\ntrip_temp_df = pd.DataFrame(trip, columns=[\\\"Tmin\\\", \\\"Tavg\\\", \\\"Tmax\\\"])\\ntrip_temp_df\";\n",
       "                var nbb_cells = Jupyter.notebook.get_cells();\n",
       "                for (var i = 0; i < nbb_cells.length; ++i) {\n",
       "                    if (nbb_cells[i].input_prompt_number == nbb_cell_id) {\n",
       "                        if (nbb_cells[i].get_text() == nbb_unformatted_code) {\n",
       "                             nbb_cells[i].set_text(nbb_formatted_code);\n",
       "                        }\n",
       "                        break;\n",
       "                    }\n",
       "                }\n",
       "            }, 500);\n",
       "            "
      ],
      "text/plain": [
       "<IPython.core.display.Javascript object>"
      ]
     },
     "metadata": {},
     "output_type": "display_data"
    }
   ],
   "source": [
    "# Create a dataframe with the calculated tmin, tavg, and tmax values\n",
    "trip_temp_df = pd.DataFrame(trip, columns=['Tmin', 'Tavg', 'Tmax'])\n",
    "trip_temp_df \n"
   ]
  },
  {
   "cell_type": "code",
   "execution_count": 33,
   "metadata": {},
   "outputs": [
    {
     "data": {
      "image/png": "[encoded data removed]",
      "text/plain": [
       "<Figure size 288x432 with 1 Axes>"
      ]
     },
     "metadata": {},
     "output_type": "display_data"
    },
    {
     "data": {
      "application/javascript": [
       "\n",
       "            setTimeout(function() {\n",
       "                var nbb_cell_id = 33;\n",
       "                var nbb_unformatted_code = \"# Plot the results from your previous query as a bar chart.\\n# Use \\\"Trip Avg Temp\\\" as your Title\\n# Use the average temperature for the y value\\n# Use the peak-to-peak (tmax-tmin) value as the y error bar (yerr)\\ntrip_temp_df.plot.bar(\\n    y=\\\"Tavg\\\",\\n    yerr=(trip_temp_df[\\\"Tmax\\\"] - trip_temp_df[\\\"Tmin\\\"]),\\n    figsize=(4, 6),\\n    color=\\\"coral\\\",\\n    alpha=0.5,\\n    align=\\\"center\\\",\\n    title=\\\"Trip Avg Temp\\\",\\n)\\nplt.ylabel(\\\"Temp (F)\\\")\\nplt.xticks(np.arange(0, 0.5))\\nplt.tight_layout()\\nplt.gca().legend_.remove()  # hide the legend\\nplt.gca().axes.get_xaxis().set_visible(False)  # hide the xaxis\\nplt.savefig(\\\"images/Trip Avg Temp.png\\\")\\nplt.show()\";\n",
       "                var nbb_formatted_code = \"# Plot the results from your previous query as a bar chart.\\n# Use \\\"Trip Avg Temp\\\" as your Title\\n# Use the average temperature for the y value\\n# Use the peak-to-peak (tmax-tmin) value as the y error bar (yerr)\\ntrip_temp_df.plot.bar(\\n    y=\\\"Tavg\\\",\\n    yerr=(trip_temp_df[\\\"Tmax\\\"] - trip_temp_df[\\\"Tmin\\\"]),\\n    figsize=(4, 6),\\n    color=\\\"coral\\\",\\n    alpha=0.5,\\n    align=\\\"center\\\",\\n    title=\\\"Trip Avg Temp\\\",\\n)\\nplt.ylabel(\\\"Temp (F)\\\")\\nplt.xticks(np.arange(0, 0.5))\\nplt.tight_layout()\\nplt.gca().legend_.remove()  # hide the legend\\nplt.gca().axes.get_xaxis().set_visible(False)  # hide the xaxis\\nplt.savefig(\\\"images/Trip Avg Temp.png\\\")\\nplt.show()\";\n",
       "                var nbb_cells = Jupyter.notebook.get_cells();\n",
       "                for (var i = 0; i < nbb_cells.length; ++i) {\n",
       "                    if (nbb_cells[i].input_prompt_number == nbb_cell_id) {\n",
       "                        if (nbb_cells[i].get_text() == nbb_unformatted_code) {\n",
       "                             nbb_cells[i].set_text(nbb_formatted_code);\n",
       "                        }\n",
       "                        break;\n",
       "                    }\n",
       "                }\n",
       "            }, 500);\n",
       "            "
      ],
      "text/plain": [
       "<IPython.core.display.Javascript object>"
      ]
     },
     "metadata": {},
     "output_type": "display_data"
    }
   ],
   "source": [
    "# Plot the results from your previous query as a bar chart.\n",
    "# Use \"Trip Avg Temp\" as your Title\n",
    "# Use the average temperature for the y value\n",
    "# Use the peak-to-peak (tmax-tmin) value as the y error bar (yerr)\n",
    "trip_temp_df.plot.bar(\n",
    "    y=\"Tavg\",\n",
    "    yerr=(trip_temp_df[\"Tmax\"] - trip_temp_df[\"Tmin\"]),\n",
    "    figsize=(4, 6),\n",
    "    color=\"coral\",\n",
    "    alpha=0.5,\n",
    "    align=\"center\",\n",
    "    title=\"Trip Avg Temp\",\n",
    ")\n",
    "plt.ylabel(\"Temp (F)\")\n",
    "plt.xticks(np.arange(0, 0.5))\n",
    "plt.tight_layout()\n",
    "plt.gca().legend_.remove()  # hide the legend\n",
    "plt.gca().axes.get_xaxis().set_visible(False)  # hide the xaxis\n",
    "plt.savefig(\"images/Trip Avg Temp.png\")\n",
    "plt.show()"
   ]
  },
  {
   "cell_type": "code",
   "execution_count": 34,
   "metadata": {},
   "outputs": [
    {
     "data": {
      "text/plain": [
       "[('USC00516128',\n",
       "  'MANOA LYON ARBO 785.2, HI US',\n",
       "  21.3331,\n",
       "  -157.8025,\n",
       "  152.4,\n",
       "  10.21),\n",
       " ('USC00519281',\n",
       "  'WAIHEE 837.5, HI US',\n",
       "  21.45167,\n",
       "  -157.84888999999998,\n",
       "  32.9,\n",
       "  1.8800000000000003),\n",
       " ('USC00513117',\n",
       "  'KANEOHE 838.1, HI US',\n",
       "  21.4234,\n",
       "  -157.8015,\n",
       "  14.6,\n",
       "  0.9700000000000002),\n",
       " ('USC00514830',\n",
       "  'KUALOA RANCH HEADQUARTERS 886.9, HI US',\n",
       "  21.5213,\n",
       "  -157.8374,\n",
       "  7.0,\n",
       "  0.88),\n",
       " ('USC00519523',\n",
       "  'WAIMANALO EXPERIMENTAL FARM, HI US',\n",
       "  21.33556,\n",
       "  -157.71139,\n",
       "  19.5,\n",
       "  0.44),\n",
       " ('USC00519397', 'WAIKIKI 717.2, HI US', 21.2716, -157.8168, 3.0, 0.25),\n",
       " ('USC00517948', 'PEARL CITY, HI US', 21.3934, -157.9751, 11.9, 0.0)]"
      ]
     },
     "execution_count": 34,
     "metadata": {},
     "output_type": "execute_result"
    },
    {
     "data": {
      "application/javascript": [
       "\n",
       "            setTimeout(function() {\n",
       "                var nbb_cell_id = 34;\n",
       "                var nbb_unformatted_code = \"# Calculate the total amount of rainfall per weather station for your trip dates using the previous year's matching dates.\\n# Sort this in descending order by precipitation amount and list the station, name, latitude, longitude, and elevation\\ntotal_rainfall = (\\n    session.query(\\n        Station.station,\\n        Station.name,\\n        Station.latitude,\\n        Station.longitude,\\n        Station.elevation,\\n        func.sum(Measurement.prcp),\\n    )\\n    .filter(Measurement.date >= trip_start_date)\\n    .filter(Measurement.date <= trip_end_date)\\n    .filter(Station.station == Measurement.station)\\n    .group_by(Measurement.station)\\n    .order_by(func.sum(Measurement.prcp).desc())\\n    .all()\\n)\\n\\ntotal_rainfall\";\n",
       "                var nbb_formatted_code = \"# Calculate the total amount of rainfall per weather station for your trip dates using the previous year's matching dates.\\n# Sort this in descending order by precipitation amount and list the station, name, latitude, longitude, and elevation\\ntotal_rainfall = (\\n    session.query(\\n        Station.station,\\n        Station.name,\\n        Station.latitude,\\n        Station.longitude,\\n        Station.elevation,\\n        func.sum(Measurement.prcp),\\n    )\\n    .filter(Measurement.date >= trip_start_date)\\n    .filter(Measurement.date <= trip_end_date)\\n    .filter(Station.station == Measurement.station)\\n    .group_by(Measurement.station)\\n    .order_by(func.sum(Measurement.prcp).desc())\\n    .all()\\n)\\n\\ntotal_rainfall\";\n",
       "                var nbb_cells = Jupyter.notebook.get_cells();\n",
       "                for (var i = 0; i < nbb_cells.length; ++i) {\n",
       "                    if (nbb_cells[i].input_prompt_number == nbb_cell_id) {\n",
       "                        if (nbb_cells[i].get_text() == nbb_unformatted_code) {\n",
       "                             nbb_cells[i].set_text(nbb_formatted_code);\n",
       "                        }\n",
       "                        break;\n",
       "                    }\n",
       "                }\n",
       "            }, 500);\n",
       "            "
      ],
      "text/plain": [
       "<IPython.core.display.Javascript object>"
      ]
     },
     "metadata": {},
     "output_type": "display_data"
    }
   ],
   "source": [
    "# Calculate the total amount of rainfall per weather station for your trip dates using the previous year's matching dates.\n",
    "# Sort this in descending order by precipitation amount and list the station, name, latitude, longitude, and elevation\n",
    "total_rainfall = (\n",
    "    session.query(\n",
    "        Station.station,\n",
    "        Station.name,\n",
    "        Station.latitude,\n",
    "        Station.longitude,\n",
    "        Station.elevation,\n",
    "        func.sum(Measurement.prcp),\n",
    "    )\n",
    "    .filter(Measurement.date >= trip_start_date)\n",
    "    .filter(Measurement.date <= trip_end_date)\n",
    "    .filter(Station.station == Measurement.station)\n",
    "    .group_by(Measurement.station)\n",
    "    .order_by(func.sum(Measurement.prcp).desc())\n",
    "    .all()\n",
    ")\n",
    "\n",
    "total_rainfall"
   ]
  },
  {
   "cell_type": "markdown",
   "metadata": {},
   "source": [
    "## Optional Challenge Assignment"
   ]
  },
  {
   "cell_type": "code",
   "execution_count": 35,
   "metadata": {},
   "outputs": [
    {
     "data": {
      "text/plain": [
       "[(62.0, 69.15384615384616, 77.0)]"
      ]
     },
     "execution_count": 35,
     "metadata": {},
     "output_type": "execute_result"
    },
    {
     "data": {
      "application/javascript": [
       "\n",
       "            setTimeout(function() {\n",
       "                var nbb_cell_id = 35;\n",
       "                var nbb_unformatted_code = \"# Create a query that will calculate the daily normals\\n# (i.e. the averages for tmin, tmax, and tavg for all historic data matching a specific month and day)\\n\\n\\ndef daily_normals(date):\\n\\n    sel = [\\n        func.min(Measurement.tobs),\\n        func.avg(Measurement.tobs),\\n        func.max(Measurement.tobs),\\n    ]\\n\\n    return (\\n        session.query(*sel)\\n        .filter(func.strftime(\\\"%m-%d\\\", Measurement.date) == date)\\n        .all()\\n    )\\n\\n\\ndaily_normals(\\\"01-01\\\")\";\n",
       "                var nbb_formatted_code = \"# Create a query that will calculate the daily normals\\n# (i.e. the averages for tmin, tmax, and tavg for all historic data matching a specific month and day)\\n\\n\\ndef daily_normals(date):\\n\\n    sel = [\\n        func.min(Measurement.tobs),\\n        func.avg(Measurement.tobs),\\n        func.max(Measurement.tobs),\\n    ]\\n\\n    return (\\n        session.query(*sel)\\n        .filter(func.strftime(\\\"%m-%d\\\", Measurement.date) == date)\\n        .all()\\n    )\\n\\n\\ndaily_normals(\\\"01-01\\\")\";\n",
       "                var nbb_cells = Jupyter.notebook.get_cells();\n",
       "                for (var i = 0; i < nbb_cells.length; ++i) {\n",
       "                    if (nbb_cells[i].input_prompt_number == nbb_cell_id) {\n",
       "                        if (nbb_cells[i].get_text() == nbb_unformatted_code) {\n",
       "                             nbb_cells[i].set_text(nbb_formatted_code);\n",
       "                        }\n",
       "                        break;\n",
       "                    }\n",
       "                }\n",
       "            }, 500);\n",
       "            "
      ],
      "text/plain": [
       "<IPython.core.display.Javascript object>"
      ]
     },
     "metadata": {},
     "output_type": "display_data"
    }
   ],
   "source": [
    "# Create a query that will calculate the daily normals\n",
    "# (i.e. the averages for tmin, tmax, and tavg for all historic data matching a specific month and day)\n",
    "\n",
    "\n",
    "def daily_normals(date):\n",
    "\n",
    "    sel = [\n",
    "        func.min(Measurement.tobs),\n",
    "        func.avg(Measurement.tobs),\n",
    "        func.max(Measurement.tobs),\n",
    "    ]\n",
    "\n",
    "    return (\n",
    "        session.query(*sel)\n",
    "        .filter(func.strftime(\"%m-%d\", Measurement.date) == date)\n",
    "        .all()\n",
    "    )\n",
    "\n",
    "\n",
    "daily_normals(\"01-01\")"
   ]
  },
  {
   "cell_type": "markdown",
   "metadata": {},
   "source": [
    "# calculate the daily normals for your trip"
   ]
  },
  {
   "cell_type": "code",
   "execution_count": 36,
   "metadata": {},
   "outputs": [
    {
     "name": "stdout",
     "output_type": "stream",
     "text": [
      "Index(['07-07', '07-08', '07-09', '07-10', '07-11', '07-12', '07-13', '07-14',\n",
      "       '07-15', '07-16', '07-17', '07-18', '07-19', '07-20', '07-21', '07-22'],\n",
      "      dtype='object')\n"
     ]
    },
    {
     "data": {
      "application/javascript": [
       "\n",
       "            setTimeout(function() {\n",
       "                var nbb_cell_id = 36;\n",
       "                var nbb_unformatted_code = \"#first we need the to create a list of dates for the trip ,then format it to (%m-%d)\\ntrip_dates = pd.date_range(trip_start_date,trip_end_date)\\nformated_trip_dates = trip_dates.strftime(\\\"%m-%d\\\")\\nprint (formated_trip_dates)\\n\\n# Loop through the list of %m-%d strings and calculate the normals for each date\\n# push each tuple of calculations into a list called `normals`\\nnormals_list =[]\\n## call daily_normals function to return the tuple list\\nfor trip_date in formated_trip_dates:\\n    normals_list.append(*daily_normals(trip_date))\";\n",
       "                var nbb_formatted_code = \"# first we need the to create a list of dates for the trip ,then format it to (%m-%d)\\ntrip_dates = pd.date_range(trip_start_date, trip_end_date)\\nformated_trip_dates = trip_dates.strftime(\\\"%m-%d\\\")\\nprint(formated_trip_dates)\\n\\n# Loop through the list of %m-%d strings and calculate the normals for each date\\n# push each tuple of calculations into a list called `normals`\\nnormals_list = []\\n## call daily_normals function to return the tuple list\\nfor trip_date in formated_trip_dates:\\n    normals_list.append(*daily_normals(trip_date))\";\n",
       "                var nbb_cells = Jupyter.notebook.get_cells();\n",
       "                for (var i = 0; i < nbb_cells.length; ++i) {\n",
       "                    if (nbb_cells[i].input_prompt_number == nbb_cell_id) {\n",
       "                        if (nbb_cells[i].get_text() == nbb_unformatted_code) {\n",
       "                             nbb_cells[i].set_text(nbb_formatted_code);\n",
       "                        }\n",
       "                        break;\n",
       "                    }\n",
       "                }\n",
       "            }, 500);\n",
       "            "
      ],
      "text/plain": [
       "<IPython.core.display.Javascript object>"
      ]
     },
     "metadata": {},
     "output_type": "display_data"
    }
   ],
   "source": [
    "#first we need the to create a list of dates for the trip ,then format it to (%m-%d)\n",
    "trip_dates = pd.date_range(trip_start_date,trip_end_date)\n",
    "formated_trip_dates = trip_dates.strftime(\"%m-%d\")\n",
    "print (formated_trip_dates)\n",
    "\n",
    "# Loop through the list of %m-%d strings and calculate the normals for each date\n",
    "# push each tuple of calculations into a list called `normals`\n",
    "normals_list =[]\n",
    "## call daily_normals function to return the tuple list\n",
    "for trip_date in formated_trip_dates:\n",
    "    normals_list.append(*daily_normals(trip_date))\n"
   ]
  },
  {
   "cell_type": "code",
   "execution_count": 37,
   "metadata": {},
   "outputs": [
    {
     "data": {
      "text/html": [
       "<div>\n",
       "<style scoped>\n",
       "    .dataframe tbody tr th:only-of-type {\n",
       "        vertical-align: middle;\n",
       "    }\n",
       "\n",
       "    .dataframe tbody tr th {\n",
       "        vertical-align: top;\n",
       "    }\n",
       "\n",
       "    .dataframe thead th {\n",
       "        text-align: right;\n",
       "    }\n",
       "</style>\n",
       "<table border=\"1\" class=\"dataframe\">\n",
       "  <thead>\n",
       "    <tr style=\"text-align: right;\">\n",
       "      <th></th>\n",
       "      <th>tmin</th>\n",
       "      <th>tmax</th>\n",
       "      <th>tavg</th>\n",
       "    </tr>\n",
       "    <tr>\n",
       "      <th>date</th>\n",
       "      <th></th>\n",
       "      <th></th>\n",
       "      <th></th>\n",
       "    </tr>\n",
       "  </thead>\n",
       "  <tbody>\n",
       "    <tr>\n",
       "      <th>2017-07-07</th>\n",
       "      <td>69.0</td>\n",
       "      <td>74.910714</td>\n",
       "      <td>82.0</td>\n",
       "    </tr>\n",
       "    <tr>\n",
       "      <th>2017-07-08</th>\n",
       "      <td>69.0</td>\n",
       "      <td>76.083333</td>\n",
       "      <td>83.0</td>\n",
       "    </tr>\n",
       "    <tr>\n",
       "      <th>2017-07-09</th>\n",
       "      <td>68.0</td>\n",
       "      <td>76.192982</td>\n",
       "      <td>83.0</td>\n",
       "    </tr>\n",
       "    <tr>\n",
       "      <th>2017-07-10</th>\n",
       "      <td>68.0</td>\n",
       "      <td>75.620690</td>\n",
       "      <td>82.0</td>\n",
       "    </tr>\n",
       "    <tr>\n",
       "      <th>2017-07-11</th>\n",
       "      <td>70.0</td>\n",
       "      <td>75.789474</td>\n",
       "      <td>81.0</td>\n",
       "    </tr>\n",
       "    <tr>\n",
       "      <th>2017-07-12</th>\n",
       "      <td>67.0</td>\n",
       "      <td>75.964912</td>\n",
       "      <td>82.0</td>\n",
       "    </tr>\n",
       "    <tr>\n",
       "      <th>2017-07-13</th>\n",
       "      <td>69.0</td>\n",
       "      <td>76.189655</td>\n",
       "      <td>81.0</td>\n",
       "    </tr>\n",
       "    <tr>\n",
       "      <th>2017-07-14</th>\n",
       "      <td>61.0</td>\n",
       "      <td>76.228070</td>\n",
       "      <td>82.0</td>\n",
       "    </tr>\n",
       "    <tr>\n",
       "      <th>2017-07-15</th>\n",
       "      <td>68.0</td>\n",
       "      <td>76.254237</td>\n",
       "      <td>82.0</td>\n",
       "    </tr>\n",
       "    <tr>\n",
       "      <th>2017-07-16</th>\n",
       "      <td>70.0</td>\n",
       "      <td>76.344828</td>\n",
       "      <td>83.0</td>\n",
       "    </tr>\n",
       "    <tr>\n",
       "      <th>2017-07-17</th>\n",
       "      <td>70.0</td>\n",
       "      <td>76.301887</td>\n",
       "      <td>83.0</td>\n",
       "    </tr>\n",
       "    <tr>\n",
       "      <th>2017-07-18</th>\n",
       "      <td>72.0</td>\n",
       "      <td>76.637931</td>\n",
       "      <td>83.0</td>\n",
       "    </tr>\n",
       "    <tr>\n",
       "      <th>2017-07-19</th>\n",
       "      <td>68.0</td>\n",
       "      <td>75.890909</td>\n",
       "      <td>83.0</td>\n",
       "    </tr>\n",
       "    <tr>\n",
       "      <th>2017-07-20</th>\n",
       "      <td>69.0</td>\n",
       "      <td>75.462963</td>\n",
       "      <td>82.0</td>\n",
       "    </tr>\n",
       "    <tr>\n",
       "      <th>2017-07-21</th>\n",
       "      <td>69.0</td>\n",
       "      <td>76.924528</td>\n",
       "      <td>83.0</td>\n",
       "    </tr>\n",
       "    <tr>\n",
       "      <th>2017-07-22</th>\n",
       "      <td>69.0</td>\n",
       "      <td>75.788462</td>\n",
       "      <td>81.0</td>\n",
       "    </tr>\n",
       "  </tbody>\n",
       "</table>\n",
       "</div>"
      ],
      "text/plain": [
       "            tmin       tmax  tavg\n",
       "date                             \n",
       "2017-07-07  69.0  74.910714  82.0\n",
       "2017-07-08  69.0  76.083333  83.0\n",
       "2017-07-09  68.0  76.192982  83.0\n",
       "2017-07-10  68.0  75.620690  82.0\n",
       "2017-07-11  70.0  75.789474  81.0\n",
       "2017-07-12  67.0  75.964912  82.0\n",
       "2017-07-13  69.0  76.189655  81.0\n",
       "2017-07-14  61.0  76.228070  82.0\n",
       "2017-07-15  68.0  76.254237  82.0\n",
       "2017-07-16  70.0  76.344828  83.0\n",
       "2017-07-17  70.0  76.301887  83.0\n",
       "2017-07-18  72.0  76.637931  83.0\n",
       "2017-07-19  68.0  75.890909  83.0\n",
       "2017-07-20  69.0  75.462963  82.0\n",
       "2017-07-21  69.0  76.924528  83.0\n",
       "2017-07-22  69.0  75.788462  81.0"
      ]
     },
     "execution_count": 37,
     "metadata": {},
     "output_type": "execute_result"
    },
    {
     "data": {
      "application/javascript": [
       "\n",
       "            setTimeout(function() {\n",
       "                var nbb_cell_id = 37;\n",
       "                var nbb_unformatted_code = \"# Load the previous query results into a Pandas DataFrame and add the `trip_dates` range as the `date` index\\ntrip_normals_df = pd.DataFrame(normals_list, columns=[\\\"tmin\\\", \\\"tmax\\\", \\\"tavg\\\"])\\n# make the trip dates the index\\ntrip_normals_df[\\\"date\\\"] = trip_dates\\ntrip_normals_df = trip_normals_df.set_index(\\\"date\\\")\\n\\ntrip_normals_df\";\n",
       "                var nbb_formatted_code = \"# Load the previous query results into a Pandas DataFrame and add the `trip_dates` range as the `date` index\\ntrip_normals_df = pd.DataFrame(normals_list, columns=[\\\"tmin\\\", \\\"tmax\\\", \\\"tavg\\\"])\\n# make the trip dates the index\\ntrip_normals_df[\\\"date\\\"] = trip_dates\\ntrip_normals_df = trip_normals_df.set_index(\\\"date\\\")\\n\\ntrip_normals_df\";\n",
       "                var nbb_cells = Jupyter.notebook.get_cells();\n",
       "                for (var i = 0; i < nbb_cells.length; ++i) {\n",
       "                    if (nbb_cells[i].input_prompt_number == nbb_cell_id) {\n",
       "                        if (nbb_cells[i].get_text() == nbb_unformatted_code) {\n",
       "                             nbb_cells[i].set_text(nbb_formatted_code);\n",
       "                        }\n",
       "                        break;\n",
       "                    }\n",
       "                }\n",
       "            }, 500);\n",
       "            "
      ],
      "text/plain": [
       "<IPython.core.display.Javascript object>"
      ]
     },
     "metadata": {},
     "output_type": "display_data"
    }
   ],
   "source": [
    "# Load the previous query results into a Pandas DataFrame and add the `trip_dates` range as the `date` index\n",
    "trip_normals_df = pd.DataFrame(normals_list, columns=[\"tmin\", \"tmax\", \"tavg\"])\n",
    "# make the trip dates the index\n",
    "trip_normals_df[\"date\"] = trip_dates\n",
    "trip_normals_df = trip_normals_df.set_index(\"date\")\n",
    "\n",
    "trip_normals_df"
   ]
  },
  {
   "cell_type": "code",
   "execution_count": 38,
   "metadata": {},
   "outputs": [
    {
     "data": {
      "image/png": "[encoded data removed]",
      "text/plain": [
       "<Figure size 864x576 with 1 Axes>"
      ]
     },
     "metadata": {},
     "output_type": "display_data"
    },
    {
     "data": {
      "application/javascript": [
       "\n",
       "            setTimeout(function() {\n",
       "                var nbb_cell_id = 38;\n",
       "                var nbb_unformatted_code = \"# Plot the daily normals as an area plot with `stacked=False`\\ncolors = ['firebrick','lightcoral','tan']\\ntrip_normals_df.plot(kind = 'area',figsize = (12,8),stacked = False,color=colors, alpha=.5,\\n                     title='Predicted Temperatures for Trip', rot=45)\\nplt.xlabel('')\\nplt.ylabel('Temp(F)')\\nplt.savefig(\\\"output_images/Predicted Temperatures for Trip.png\\\")\\nplt.show()\";\n",
       "                var nbb_formatted_code = \"# Plot the daily normals as an area plot with `stacked=False`\\ncolors = [\\\"firebrick\\\", \\\"lightcoral\\\", \\\"tan\\\"]\\ntrip_normals_df.plot(\\n    kind=\\\"area\\\",\\n    figsize=(12, 8),\\n    stacked=False,\\n    color=colors,\\n    alpha=0.5,\\n    title=\\\"Predicted Temperatures for Trip\\\",\\n    rot=45,\\n)\\nplt.xlabel(\\\"\\\")\\nplt.ylabel(\\\"Temp(F)\\\")\\nplt.savefig(\\\"output_images/Predicted Temperatures for Trip.png\\\")\\nplt.show()\";\n",
       "                var nbb_cells = Jupyter.notebook.get_cells();\n",
       "                for (var i = 0; i < nbb_cells.length; ++i) {\n",
       "                    if (nbb_cells[i].input_prompt_number == nbb_cell_id) {\n",
       "                        if (nbb_cells[i].get_text() == nbb_unformatted_code) {\n",
       "                             nbb_cells[i].set_text(nbb_formatted_code);\n",
       "                        }\n",
       "                        break;\n",
       "                    }\n",
       "                }\n",
       "            }, 500);\n",
       "            "
      ],
      "text/plain": [
       "<IPython.core.display.Javascript object>"
      ]
     },
     "metadata": {},
     "output_type": "display_data"
    }
   ],
   "source": [
    "# Plot the daily normals as an area plot with `stacked=False`\n",
    "colors = [\"firebrick\", \"lightcoral\", \"tan\"]\n",
    "trip_normals_df.plot(\n",
    "    kind=\"area\",\n",
    "    figsize=(12, 8),\n",
    "    stacked=False,\n",
    "    color=colors,\n",
    "    alpha=0.5,\n",
    "    title=\"Predicted Temperatures for Trip\",\n",
    "    rot=45,\n",
    ")\n",
    "plt.xlabel(\"\")\n",
    "plt.ylabel(\"Temp(F)\")\n",
    "plt.savefig(\"output_images/Predicted Temperatures for Trip.png\")\n",
    "plt.show()"
   ]
  },
  {
   "cell_type": "code",
   "execution_count": null,
   "metadata": {},
   "outputs": [],
   "source": []
  }
 ],
 "metadata": {
  "kernel_info": {
   "name": "python3"
  },
  "kernelspec": {
   "display_name": "SqlAlchemy Env",
   "language": "python",
   "name": "sqlalchemy"
  },
  "language_info": {
   "codemirror_mode": {
    "name": "ipython",
    "version": 3
   },
   "file_extension": ".py",
   "mimetype": "text/x-python",
   "name": "python",
   "nbconvert_exporter": "python",
   "pygments_lexer": "ipython3",
   "version": "3.7.3"
  },
  "nteract": {
   "version": "0.12.3"
  },
  "varInspector": {
   "cols": {
    "lenName": 16,
    "lenType": 16,
    "lenVar": 40
   },
   "kernels_config": {
    "python": {
     "delete_cmd_postfix": "",
     "delete_cmd_prefix": "del ",
     "library": "var_list.py",
     "varRefreshCmd": "print(var_dic_list())"
    },
    "r": {
     "delete_cmd_postfix": ") ",
     "delete_cmd_prefix": "rm(",
     "library": "var_list.r",
     "varRefreshCmd": "cat(var_dic_list()) "
    }
   },
   "types_to_exclude": [
    "module",
    "function",
    "builtin_function_or_method",
    "instance",
    "_Feature"
   ],
   "window_display": false
  }
 },
 "nbformat": 4,
 "nbformat_minor": 2
}
